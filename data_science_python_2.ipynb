{
 "cells": [
  {
   "cell_type": "markdown",
   "metadata": {},
   "source": [
    "Napisz funkcję w Pythonie do obliczania długości łańcucha znaków."
   ]
  },
  {
   "cell_type": "code",
   "execution_count": 1,
   "metadata": {},
   "outputs": [
    {
     "name": "stdout",
     "output_type": "stream",
     "text": [
      "3\n"
     ]
    }
   ],
   "source": [
    "def string_length(x):\n",
    "    count=0\n",
    "    for char in x:\n",
    "        count+= 1\n",
    "    return count\n",
    "\n",
    "print(string_length('box'))"
   ]
  },
  {
   "cell_type": "markdown",
   "metadata": {},
   "source": [
    "Napisz funkcję w Pythonie, która zsumuje wszystkie elementy na liście."
   ]
  },
  {
   "cell_type": "code",
   "execution_count": 7,
   "metadata": {},
   "outputs": [
    {
     "name": "stdout",
     "output_type": "stream",
     "text": [
      "13\n"
     ]
    }
   ],
   "source": [
    "def sum_elements(my_list):\n",
    "    sum=0 \n",
    "    for x in my_list:\n",
    "        sum= sum+x\n",
    "    return sum\n",
    "\n",
    "print(sum_elements([1, 4, 8]))"
   ]
  },
  {
   "cell_type": "markdown",
   "metadata": {},
   "source": [
    "Napisz funkcję w Pythonie, który mnoży wszystkie elementy na liście."
   ]
  },
  {
   "cell_type": "code",
   "execution_count": 9,
   "metadata": {},
   "outputs": [
    {
     "name": "stdout",
     "output_type": "stream",
     "text": [
      "18\n"
     ]
    }
   ],
   "source": [
    "def multiply_elements(my_list):\n",
    "    fin=my_list[0]\n",
    "    for x in my_list[1:]:\n",
    "        fin *= x\n",
    "    return fin\n",
    "\n",
    "print(multiply_elements([3, 6, 1]))"
   ]
  },
  {
   "cell_type": "markdown",
   "metadata": {},
   "source": [
    "Napisz funkcję w Pythonie, aby uzyskać największą liczbę z listy."
   ]
  },
  {
   "cell_type": "code",
   "execution_count": 11,
   "metadata": {},
   "outputs": [
    {
     "name": "stdout",
     "output_type": "stream",
     "text": [
      "7\n"
     ]
    }
   ],
   "source": [
    "def max_number(my_list):\n",
    "    max_n=my_list[0]\n",
    "    for x in my_list[1:]:\n",
    "        if x>max_n:\n",
    "            max_n=x\n",
    "        else:\n",
    "            continue\n",
    "    return max_n\n",
    "\n",
    "print(max_number([1, 4, 2, 7, -3]))    "
   ]
  },
  {
   "cell_type": "markdown",
   "metadata": {},
   "source": [
    "Napisz funkcję w Pythonie, który zlicza liczbę znaków (częstotliwość znaków) w ciągu tekstowym.\n",
    "\n",
    "Przykładowy ciąg tekstowy: google.com\n",
    "\n",
    "Oczekiwany wynik: {'o': 3, 'g': 2, '.': 1, 'e': 1, 'l': 1, 'm': 1, 'c': 1}"
   ]
  },
  {
   "cell_type": "code",
   "execution_count": 14,
   "metadata": {},
   "outputs": [
    {
     "name": "stdout",
     "output_type": "stream",
     "text": [
      "{'g': 2, 'o': 3, 'l': 1, 'e': 1, '.': 1, 'c': 1, 'm': 1}\n"
     ]
    }
   ],
   "source": [
    "def str_frequency(str):\n",
    "    dict = {}\n",
    "    for n in str:\n",
    "        key=dict.keys()\n",
    "        if n in key:\n",
    "            dict[n] += 1\n",
    "        else:\n",
    "            dict[n]=1\n",
    "    return dict\n",
    " \n",
    "print(str_frequency('google.com'))"
   ]
  },
  {
   "cell_type": "markdown",
   "metadata": {},
   "source": [
    "Funkcja w Pythonie do zliczania ciągów znaków, w których długość ciągu wynosi 2 lub więcej, a pierwszy i ostatni znak są takie same z podanej listy ciągów"
   ]
  },
  {
   "cell_type": "code",
   "execution_count": 15,
   "metadata": {},
   "outputs": [
    {
     "name": "stdout",
     "output_type": "stream",
     "text": [
      "2\n"
     ]
    }
   ],
   "source": [
    "def count_words(words):\n",
    "    counter=0\n",
    "    \n",
    "    for word in words:\n",
    "        if  word[0]==word[-1] and len(word)>=2:\n",
    "            counter += 1\n",
    "    return counter\n",
    "\n",
    "print(count_words(['abc', 'xyz', 'aba', '1221']))"
   ]
  },
  {
   "cell_type": "markdown",
   "metadata": {},
   "source": [
    "Funkcja Pythona do pobrania listy, posortowanej w porządku rosnącym według ostatniego elementu w każdej krotce z podanej listy niepustych krotek"
   ]
  },
  {
   "cell_type": "code",
   "execution_count": 19,
   "metadata": {},
   "outputs": [
    {
     "name": "stdout",
     "output_type": "stream",
     "text": [
      "[(2, 1), (1, 2), (2, 3), (4, 4), (2, 5)]\n"
     ]
    }
   ],
   "source": [
    "def last_element(n):\n",
    "    return n[-1]\n",
    "\n",
    "def sort_list_(tuples):\n",
    "    return sorted(tuples, key=last_element)\n",
    "\n",
    "print(sort_list_([(2, 5), (1, 2), (4, 4), (2, 3), (2, 1)]))"
   ]
  },
  {
   "cell_type": "markdown",
   "metadata": {},
   "source": [
    "Napisz funkcję w Pythonie, aby uzyskać łańcuch składający się z pierwszych 2 i ostatnich 2 znaków z danego łańcucha. Jeśli długość ciągu jest mniejsza niż 2, zwróć zamiast tego pusty ciąg."
   ]
  },
  {
   "cell_type": "code",
   "execution_count": 22,
   "metadata": {},
   "outputs": [
    {
     "name": "stdout",
     "output_type": "stream",
     "text": [
      "Pyon\n"
     ]
    }
   ],
   "source": [
    "def two_elements(str):\n",
    "    if len(str)<2:\n",
    "        return ''\n",
    "    return str[:2]+ str[-2:] \n",
    "\n",
    "print(two_elements('Python'))"
   ]
  },
  {
   "cell_type": "markdown",
   "metadata": {},
   "source": [
    "Napisz program, policzy silnię dla liczby n tj.\n",
    "\n",
    "n! = 1*2*3*4...*(n-2)*(n-1)*n\n",
    "\n",
    "Zrób to przez napisanie funkcji, która rekurencyjne będzie się odwoływała do samej siebie do momentu gdy będzie liczyła silnie dla 1, która wynosi 1."
   ]
  },
  {
   "cell_type": "code",
   "execution_count": 23,
   "metadata": {},
   "outputs": [
    {
     "name": "stdout",
     "output_type": "stream",
     "text": [
      "24\n"
     ]
    }
   ],
   "source": [
    "def silnia(n):\n",
    "    if n==1:\n",
    "        return n\n",
    "    return n*silnia(n-1)\n",
    "\n",
    "print(silnia(4))"
   ]
  },
  {
   "cell_type": "markdown",
   "metadata": {},
   "source": [
    "Rekurencyjny ciąg Fibonacciego w Pythonie.\n"
   ]
  },
  {
   "cell_type": "code",
   "execution_count": 25,
   "metadata": {},
   "outputs": [
    {
     "name": "stdout",
     "output_type": "stream",
     "text": [
      "0\n",
      "1\n",
      "1\n",
      "2\n",
      "3\n",
      "5\n",
      "8\n",
      "13\n",
      "21\n",
      "34\n"
     ]
    }
   ],
   "source": [
    "def fibo(n):\n",
    "    if n <= 1:\n",
    "        return n\n",
    "    else:\n",
    "        return fibo(n-1) + fibo(n-2)\n",
    "    \n",
    "for i in range(10):\n",
    "    print(fibo(i))"
   ]
  },
  {
   "cell_type": "markdown",
   "metadata": {},
   "source": [
    "Napisz funkcję w Pythonie, aby uzyskać najmniejszą liczbę z listy."
   ]
  },
  {
   "cell_type": "code",
   "execution_count": 26,
   "metadata": {},
   "outputs": [
    {
     "name": "stdout",
     "output_type": "stream",
     "text": [
      "-7\n"
     ]
    }
   ],
   "source": [
    "def min_num(my_list):\n",
    "    min_number=my_list[0]\n",
    "    for x in my_list[1:]:\n",
    "        if x<min_number:\n",
    "            min_number=x\n",
    "    return min_number\n",
    "\n",
    "print(min_num([-3, 4, -2, -7, 3, 6]))"
   ]
  }
 ],
 "metadata": {
  "interpreter": {
   "hash": "e9fa9bbc554cfd578bec34ae99fd66a014e25708b28196f2a51e4a350c743bac"
  },
  "kernelspec": {
   "display_name": "Python 3.9.9 64-bit (windows store)",
   "language": "python",
   "name": "python3"
  },
  "language_info": {
   "codemirror_mode": {
    "name": "ipython",
    "version": 3
   },
   "file_extension": ".py",
   "mimetype": "text/x-python",
   "name": "python",
   "nbconvert_exporter": "python",
   "pygments_lexer": "ipython3",
   "version": "3.8.5"
  },
  "orig_nbformat": 4
 },
 "nbformat": 4,
 "nbformat_minor": 2
}
