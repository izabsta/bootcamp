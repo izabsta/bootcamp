{
 "cells": [
  {
   "cell_type": "markdown",
   "metadata": {},
   "source": [
    "Napisz funkcję w Pythonie do obliczania długości łańcucha znaków."
   ]
  },
  {
   "cell_type": "code",
   "execution_count": 1,
   "metadata": {},
   "outputs": [
    {
     "name": "stdout",
     "output_type": "stream",
     "text": [
      "3\n"
     ]
    }
   ],
   "source": [
    "def string_length(x):\n",
    "    count=0\n",
    "    for char in x:\n",
    "        count+= 1\n",
    "    return count\n",
    "\n",
    "print(string_length('box'))"
   ]
  },
  {
   "cell_type": "markdown",
   "metadata": {},
   "source": [
    "Napisz funkcję w Pythonie, która zsumuje wszystkie elementy na liście."
   ]
  },
  {
   "cell_type": "code",
   "execution_count": 7,
   "metadata": {},
   "outputs": [
    {
     "name": "stdout",
     "output_type": "stream",
     "text": [
      "13\n"
     ]
    }
   ],
   "source": [
    "def sum_elements(my_list):\n",
    "    sum=0 \n",
    "    for x in my_list:\n",
    "        sum= sum+x\n",
    "    return sum\n",
    "\n",
    "print(sum_elements([1, 4, 8]))"
   ]
  },
  {
   "cell_type": "markdown",
   "metadata": {},
   "source": [
    "Napisz funkcję w Pythonie, który mnoży wszystkie elementy na liście."
   ]
  },
  {
   "cell_type": "code",
   "execution_count": 9,
   "metadata": {},
   "outputs": [
    {
     "name": "stdout",
     "output_type": "stream",
     "text": [
      "18\n"
     ]
    }
   ],
   "source": [
    "def multiply_elements(my_list):\n",
    "    fin=my_list[0]\n",
    "    for x in my_list[1:]:\n",
    "        fin *= x\n",
    "    return fin\n",
    "\n",
    "print(multiply_elements([3, 6, 1]))"
   ]
  },
  {
   "cell_type": "markdown",
   "metadata": {},
   "source": [
    "Napisz funkcję w Pythonie, aby uzyskać największą liczbę z listy."
   ]
  },
  {
   "cell_type": "code",
   "execution_count": 11,
   "metadata": {},
   "outputs": [
    {
     "name": "stdout",
     "output_type": "stream",
     "text": [
      "7\n"
     ]
    }
   ],
   "source": [
    "def max_number(my_list):\n",
    "    max_n=my_list[0]\n",
    "    for x in my_list[1:]:\n",
    "        if x>max_n:\n",
    "            max_n=x\n",
    "        else:\n",
    "            continue\n",
    "    return max_n\n",
    "\n",
    "print(max_number([1, 4, 2, 7, -3]))    "
   ]
  },
  {
   "cell_type": "markdown",
   "metadata": {},
   "source": [
    "Napisz funkcję w Pythonie, który zlicza liczbę znaków (częstotliwość znaków) w ciągu tekstowym.\n",
    "\n",
    "Przykładowy ciąg tekstowy: google.com\n",
    "\n",
    "Oczekiwany wynik: {'o': 3, 'g': 2, '.': 1, 'e': 1, 'l': 1, 'm': 1, 'c': 1}"
   ]
  }
 ],
 "metadata": {
  "interpreter": {
   "hash": "e9fa9bbc554cfd578bec34ae99fd66a014e25708b28196f2a51e4a350c743bac"
  },
  "kernelspec": {
   "display_name": "Python 3.9.9 64-bit (windows store)",
   "language": "python",
   "name": "python3"
  },
  "language_info": {
   "codemirror_mode": {
    "name": "ipython",
    "version": 3
   },
   "file_extension": ".py",
   "mimetype": "text/x-python",
   "name": "python",
   "nbconvert_exporter": "python",
   "pygments_lexer": "ipython3",
   "version": "3.8.5"
  },
  "orig_nbformat": 4
 },
 "nbformat": 4,
 "nbformat_minor": 2
}
