{
 "cells": [
  {
   "cell_type": "markdown",
   "id": "e73f3a88",
   "metadata": {},
   "source": [
    "# Recipes recommendations\n",
    "## A simple tool which provides recipes recommendations\n",
    "\n",
    "\n",
    "Data analysis:\n",
    "1. Importing libraries\n",
    "2. Opening the file\n",
    "3. Inroduction to the dataset\n",
    "4. Analysis of the ingredient data\n",
    "5. Setting recipes recommendations examples"
   ]
  },
  {
   "cell_type": "markdown",
   "id": "d1f86f71",
   "metadata": {},
   "source": [
    "## Importing libraries"
   ]
  },
  {
   "cell_type": "code",
   "execution_count": 9,
   "id": "7150bfb2",
   "metadata": {},
   "outputs": [],
   "source": [
    "import pandas as pd\n",
    "import numpy as np"
   ]
  },
  {
   "cell_type": "markdown",
   "id": "4e59fe5e",
   "metadata": {},
   "source": [
    "## Opening the file"
   ]
  },
  {
   "cell_type": "code",
   "execution_count": 10,
   "id": "7aa56b8e",
   "metadata": {},
   "outputs": [],
   "source": [
    "with open('recipeitems-latest.json') as f:\n",
    "    line=f.readline()"
   ]
  },
  {
   "cell_type": "code",
   "execution_count": 11,
   "id": "dc16dda5",
   "metadata": {},
   "outputs": [
    {
     "data": {
      "text/plain": [
       "'{ \"_id\" : { \"$oid\" : \"5160756b96cc62079cc2db15\" }, \"name\" : \"Drop Biscuits and Sausage Gravy\", \"ingredients\" : \"Biscuits\\\\n3 cups All-purpose Flour\\\\n2 Tablespoons Baking Powder\\\\n1/2 teaspoon Salt\\\\n1-1/2 stick (3/4 Cup) Cold Butter, Cut Into Pieces\\\\n1-1/4 cup Butermilk\\\\n SAUSAGE GRAVY\\\\n1 pound Breakfast Sausage, Hot Or Mild\\\\n1/3 cup All-purpose Flour\\\\n4 cups Whole Milk\\\\n1/2 teaspoon Seasoned Salt\\\\n2 teaspoons Black Pepper, More To Taste\", \"url\" : \"http://thepioneerwoman.com/cooking/2013/03/drop-biscuits-and-sausage-gravy/\", \"image\" : \"http://static.thepioneerwoman.com/cooking/files/2013/03/bisgrav.jpg\", \"ts\" : { \"$date\" : 1365276011104 }, \"cookTime\" : \"PT30M\", \"source\" : \"thepioneerwoman\", \"recipeYield\" : \"12\", \"datePublished\" : \"2013-03-11\", \"prepTime\" : \"PT10M\", \"description\" : \"Late Saturday afternoon, after Marlboro Man had returned home with the soccer-playing girls, and I had returned home with the...\" }\\n'"
      ]
     },
     "execution_count": 11,
     "metadata": {},
     "output_type": "execute_result"
    }
   ],
   "source": [
    "line"
   ]
  },
  {
   "cell_type": "code",
   "execution_count": 16,
   "id": "ec9cad55",
   "metadata": {},
   "outputs": [],
   "source": [
    "recipes = pd.read_json('recipeitems-latest.json' , lines=True)"
   ]
  },
  {
   "cell_type": "markdown",
   "id": "cd03f2cd",
   "metadata": {},
   "source": [
    "## Introduction to the data set"
   ]
  },
  {
   "cell_type": "code",
   "execution_count": 19,
   "id": "f53e7b15",
   "metadata": {},
   "outputs": [
    {
     "data": {
      "text/plain": [
       "(173278, 17)"
      ]
     },
     "execution_count": 19,
     "metadata": {},
     "output_type": "execute_result"
    }
   ],
   "source": [
    "recipes.shape\n",
    "# Number of rows and columns in the dataset"
   ]
  },
  {
   "cell_type": "code",
   "execution_count": 20,
   "id": "93b5fc16",
   "metadata": {
    "scrolled": true
   },
   "outputs": [
    {
     "data": {
      "text/html": [
       "<div>\n",
       "<style scoped>\n",
       "    .dataframe tbody tr th:only-of-type {\n",
       "        vertical-align: middle;\n",
       "    }\n",
       "\n",
       "    .dataframe tbody tr th {\n",
       "        vertical-align: top;\n",
       "    }\n",
       "\n",
       "    .dataframe thead th {\n",
       "        text-align: right;\n",
       "    }\n",
       "</style>\n",
       "<table border=\"1\" class=\"dataframe\">\n",
       "  <thead>\n",
       "    <tr style=\"text-align: right;\">\n",
       "      <th></th>\n",
       "      <th>_id</th>\n",
       "      <th>name</th>\n",
       "      <th>ingredients</th>\n",
       "      <th>url</th>\n",
       "      <th>image</th>\n",
       "      <th>ts</th>\n",
       "      <th>cookTime</th>\n",
       "      <th>source</th>\n",
       "      <th>recipeYield</th>\n",
       "      <th>datePublished</th>\n",
       "      <th>prepTime</th>\n",
       "      <th>description</th>\n",
       "      <th>totalTime</th>\n",
       "      <th>creator</th>\n",
       "      <th>recipeCategory</th>\n",
       "      <th>dateModified</th>\n",
       "      <th>recipeInstructions</th>\n",
       "    </tr>\n",
       "  </thead>\n",
       "  <tbody>\n",
       "    <tr>\n",
       "      <th>0</th>\n",
       "      <td>{'$oid': '5160756b96cc62079cc2db15'}</td>\n",
       "      <td>Drop Biscuits and Sausage Gravy</td>\n",
       "      <td>Biscuits\\n3 cups All-purpose Flour\\n2 Tablespo...</td>\n",
       "      <td>http://thepioneerwoman.com/cooking/2013/03/dro...</td>\n",
       "      <td>http://static.thepioneerwoman.com/cooking/file...</td>\n",
       "      <td>{'$date': 1365276011104}</td>\n",
       "      <td>PT30M</td>\n",
       "      <td>thepioneerwoman</td>\n",
       "      <td>12</td>\n",
       "      <td>2013-03-11</td>\n",
       "      <td>PT10M</td>\n",
       "      <td>Late Saturday afternoon, after Marlboro Man ha...</td>\n",
       "      <td>NaN</td>\n",
       "      <td>NaN</td>\n",
       "      <td>NaN</td>\n",
       "      <td>NaN</td>\n",
       "      <td>NaN</td>\n",
       "    </tr>\n",
       "    <tr>\n",
       "      <th>1</th>\n",
       "      <td>{'$oid': '5160756d96cc62079cc2db16'}</td>\n",
       "      <td>Hot Roast Beef Sandwiches</td>\n",
       "      <td>12 whole Dinner Rolls Or Small Sandwich Buns (...</td>\n",
       "      <td>http://thepioneerwoman.com/cooking/2013/03/hot...</td>\n",
       "      <td>http://static.thepioneerwoman.com/cooking/file...</td>\n",
       "      <td>{'$date': 1365276013902}</td>\n",
       "      <td>PT20M</td>\n",
       "      <td>thepioneerwoman</td>\n",
       "      <td>12</td>\n",
       "      <td>2013-03-13</td>\n",
       "      <td>PT20M</td>\n",
       "      <td>When I was growing up, I participated in my Ep...</td>\n",
       "      <td>NaN</td>\n",
       "      <td>NaN</td>\n",
       "      <td>NaN</td>\n",
       "      <td>NaN</td>\n",
       "      <td>NaN</td>\n",
       "    </tr>\n",
       "    <tr>\n",
       "      <th>2</th>\n",
       "      <td>{'$oid': '5160756f96cc6207a37ff777'}</td>\n",
       "      <td>Morrocan Carrot and Chickpea Salad</td>\n",
       "      <td>Dressing:\\n1 tablespoon cumin seeds\\n1/3 cup /...</td>\n",
       "      <td>http://www.101cookbooks.com/archives/moroccan-...</td>\n",
       "      <td>http://www.101cookbooks.com/mt-static/images/f...</td>\n",
       "      <td>{'$date': 1365276015332}</td>\n",
       "      <td>NaN</td>\n",
       "      <td>101cookbooks</td>\n",
       "      <td>NaN</td>\n",
       "      <td>2013-01-07</td>\n",
       "      <td>PT15M</td>\n",
       "      <td>A beauty of a carrot salad - tricked out with ...</td>\n",
       "      <td>NaN</td>\n",
       "      <td>NaN</td>\n",
       "      <td>NaN</td>\n",
       "      <td>NaN</td>\n",
       "      <td>NaN</td>\n",
       "    </tr>\n",
       "    <tr>\n",
       "      <th>3</th>\n",
       "      <td>{'$oid': '5160757096cc62079cc2db17'}</td>\n",
       "      <td>Mixed Berry Shortcake</td>\n",
       "      <td>Biscuits\\n3 cups All-purpose Flour\\n2 Tablespo...</td>\n",
       "      <td>http://thepioneerwoman.com/cooking/2013/03/mix...</td>\n",
       "      <td>http://static.thepioneerwoman.com/cooking/file...</td>\n",
       "      <td>{'$date': 1365276016700}</td>\n",
       "      <td>PT15M</td>\n",
       "      <td>thepioneerwoman</td>\n",
       "      <td>8</td>\n",
       "      <td>2013-03-18</td>\n",
       "      <td>PT15M</td>\n",
       "      <td>It's Monday! It's a brand new week! The birds ...</td>\n",
       "      <td>NaN</td>\n",
       "      <td>NaN</td>\n",
       "      <td>NaN</td>\n",
       "      <td>NaN</td>\n",
       "      <td>NaN</td>\n",
       "    </tr>\n",
       "    <tr>\n",
       "      <th>4</th>\n",
       "      <td>{'$oid': '5160757496cc6207a37ff778'}</td>\n",
       "      <td>Pomegranate Yogurt Bowl</td>\n",
       "      <td>For each bowl: \\na big dollop of Greek yogurt\\...</td>\n",
       "      <td>http://www.101cookbooks.com/archives/pomegrana...</td>\n",
       "      <td>http://www.101cookbooks.com/mt-static/images/f...</td>\n",
       "      <td>{'$date': 1365276020318}</td>\n",
       "      <td>NaN</td>\n",
       "      <td>101cookbooks</td>\n",
       "      <td>Serves 1.</td>\n",
       "      <td>2013-01-20</td>\n",
       "      <td>PT5M</td>\n",
       "      <td>A simple breakfast bowl made with Greek yogurt...</td>\n",
       "      <td>NaN</td>\n",
       "      <td>NaN</td>\n",
       "      <td>NaN</td>\n",
       "      <td>NaN</td>\n",
       "      <td>NaN</td>\n",
       "    </tr>\n",
       "  </tbody>\n",
       "</table>\n",
       "</div>"
      ],
      "text/plain": [
       "                                    _id                                name  \\\n",
       "0  {'$oid': '5160756b96cc62079cc2db15'}     Drop Biscuits and Sausage Gravy   \n",
       "1  {'$oid': '5160756d96cc62079cc2db16'}           Hot Roast Beef Sandwiches   \n",
       "2  {'$oid': '5160756f96cc6207a37ff777'}  Morrocan Carrot and Chickpea Salad   \n",
       "3  {'$oid': '5160757096cc62079cc2db17'}               Mixed Berry Shortcake   \n",
       "4  {'$oid': '5160757496cc6207a37ff778'}             Pomegranate Yogurt Bowl   \n",
       "\n",
       "                                         ingredients  \\\n",
       "0  Biscuits\\n3 cups All-purpose Flour\\n2 Tablespo...   \n",
       "1  12 whole Dinner Rolls Or Small Sandwich Buns (...   \n",
       "2  Dressing:\\n1 tablespoon cumin seeds\\n1/3 cup /...   \n",
       "3  Biscuits\\n3 cups All-purpose Flour\\n2 Tablespo...   \n",
       "4  For each bowl: \\na big dollop of Greek yogurt\\...   \n",
       "\n",
       "                                                 url  \\\n",
       "0  http://thepioneerwoman.com/cooking/2013/03/dro...   \n",
       "1  http://thepioneerwoman.com/cooking/2013/03/hot...   \n",
       "2  http://www.101cookbooks.com/archives/moroccan-...   \n",
       "3  http://thepioneerwoman.com/cooking/2013/03/mix...   \n",
       "4  http://www.101cookbooks.com/archives/pomegrana...   \n",
       "\n",
       "                                               image  \\\n",
       "0  http://static.thepioneerwoman.com/cooking/file...   \n",
       "1  http://static.thepioneerwoman.com/cooking/file...   \n",
       "2  http://www.101cookbooks.com/mt-static/images/f...   \n",
       "3  http://static.thepioneerwoman.com/cooking/file...   \n",
       "4  http://www.101cookbooks.com/mt-static/images/f...   \n",
       "\n",
       "                         ts cookTime           source recipeYield  \\\n",
       "0  {'$date': 1365276011104}    PT30M  thepioneerwoman          12   \n",
       "1  {'$date': 1365276013902}    PT20M  thepioneerwoman          12   \n",
       "2  {'$date': 1365276015332}      NaN     101cookbooks         NaN   \n",
       "3  {'$date': 1365276016700}    PT15M  thepioneerwoman           8   \n",
       "4  {'$date': 1365276020318}      NaN     101cookbooks   Serves 1.   \n",
       "\n",
       "  datePublished prepTime                                        description  \\\n",
       "0    2013-03-11    PT10M  Late Saturday afternoon, after Marlboro Man ha...   \n",
       "1    2013-03-13    PT20M  When I was growing up, I participated in my Ep...   \n",
       "2    2013-01-07    PT15M  A beauty of a carrot salad - tricked out with ...   \n",
       "3    2013-03-18    PT15M  It's Monday! It's a brand new week! The birds ...   \n",
       "4    2013-01-20     PT5M  A simple breakfast bowl made with Greek yogurt...   \n",
       "\n",
       "  totalTime creator recipeCategory dateModified recipeInstructions  \n",
       "0       NaN     NaN            NaN          NaN                NaN  \n",
       "1       NaN     NaN            NaN          NaN                NaN  \n",
       "2       NaN     NaN            NaN          NaN                NaN  \n",
       "3       NaN     NaN            NaN          NaN                NaN  \n",
       "4       NaN     NaN            NaN          NaN                NaN  "
      ]
     },
     "execution_count": 20,
     "metadata": {},
     "output_type": "execute_result"
    }
   ],
   "source": [
    "recipes.head()"
   ]
  },
  {
   "cell_type": "code",
   "execution_count": 38,
   "id": "948f097f",
   "metadata": {},
   "outputs": [
    {
     "data": {
      "text/plain": [
       "_id                                {'$oid': '5160756b96cc62079cc2db15'}\n",
       "name                                    Drop Biscuits and Sausage Gravy\n",
       "ingredients           Biscuits\\n3 cups All-purpose Flour\\n2 Tablespo...\n",
       "url                   http://thepioneerwoman.com/cooking/2013/03/dro...\n",
       "image                 http://static.thepioneerwoman.com/cooking/file...\n",
       "ts                                             {'$date': 1365276011104}\n",
       "cookTime                                                          PT30M\n",
       "source                                                  thepioneerwoman\n",
       "recipeYield                                                          12\n",
       "datePublished                                                2013-03-11\n",
       "prepTime                                                          PT10M\n",
       "description           Late Saturday afternoon, after Marlboro Man ha...\n",
       "totalTime                                                           NaN\n",
       "creator                                                             NaN\n",
       "recipeCategory                                                      NaN\n",
       "dateModified                                                        NaN\n",
       "recipeInstructions                                                  NaN\n",
       "Name: 0, dtype: object"
      ]
     },
     "execution_count": 38,
     "metadata": {},
     "output_type": "execute_result"
    }
   ],
   "source": [
    "recipes.iloc[0]\n",
    "# Recipe structure"
   ]
  },
  {
   "cell_type": "markdown",
   "id": "3ea73637",
   "metadata": {},
   "source": [
    "## Analysis of the ingredients data"
   ]
  },
  {
   "cell_type": "code",
   "execution_count": 35,
   "id": "d700b08e",
   "metadata": {},
   "outputs": [
    {
     "data": {
      "text/plain": [
       "'Biscuits\\n3 cups All-purpose Flour\\n2 Tablespoons Baking Powder\\n1/2 teaspoon Salt\\n1-1/2 stick (3/4 Cup) Cold Butter, Cut Into Pieces\\n1-1/4 cup Butermilk\\n SAUSAGE GRAVY\\n1 pound Breakfast Sausage, Hot Or Mild\\n1/3 cup All-purpose Flour\\n4 cups Whole Milk\\n1/2 teaspoon Seasoned Salt\\n2 teaspoons Black Pepper, More To Taste'"
      ]
     },
     "execution_count": 35,
     "metadata": {},
     "output_type": "execute_result"
    }
   ],
   "source": [
    "recipes.iloc[0].ingredients\n",
    "# Ingredients of the recipe with the index 0"
   ]
  },
  {
   "cell_type": "code",
   "execution_count": 39,
   "id": "071228b2",
   "metadata": {},
   "outputs": [
    {
     "data": {
      "text/plain": [
       "count    173278.000000\n",
       "mean        244.617926\n",
       "std         146.705285\n",
       "min           0.000000\n",
       "25%         147.000000\n",
       "50%         221.000000\n",
       "75%         314.000000\n",
       "max        9067.000000\n",
       "Name: ingredients, dtype: float64"
      ]
     },
     "execution_count": 39,
     "metadata": {},
     "output_type": "execute_result"
    }
   ],
   "source": [
    "recipes.ingredients.str.len().describe()\n",
    "# Ingredients data overview"
   ]
  },
  {
   "cell_type": "code",
   "execution_count": 32,
   "id": "1506a7c6",
   "metadata": {},
   "outputs": [
    {
     "data": {
      "text/plain": [
       "135598"
      ]
     },
     "execution_count": 32,
     "metadata": {},
     "output_type": "execute_result"
    }
   ],
   "source": [
    "np.argmax(recipes.ingredients.str.len())\n",
    "# Index of the recipe with the longest ingredients section"
   ]
  },
  {
   "cell_type": "code",
   "execution_count": 34,
   "id": "6ab0a5a8",
   "metadata": {},
   "outputs": [
    {
     "data": {
      "text/plain": [
       "'1 cup carrot juice2 cups (280 g) all purpose flour1/2 cup (65 g) almond meal or almond flour1 tablespoon baking powder1 teaspoon baking soda3/4 teaspoon fine sea salt1 teaspoon ground cinnamon1/2 teaspoon ground ginger1/2 teaspoon ground nutmeg1/4 teaspoon ground allspice1/4 teaspoon ground cloves1/4 teaspoon ground cardamom1/4 teaspoon fresh ground black pepper2 cups (400 g) white granulated sugar3/4 cup (175 mL) neutral flavored cooking oil (like sunflower)1 lbs (450 g) carrots, finely freshly grated1 cup (160 g) finely chopped fresh pineapple3 large eggs2 teaspoon vanilla extract1/2 teaspoon almond extract\\n2 cups (280 g) all purpose flour1/2 cup (65 g) almond meal or almond flour1 tablespoon baking powder1 teaspoon baking soda3/4 teaspoon fine sea salt1 teaspoon ground cinnamon1/2 teaspoon ground ginger1/2 teaspoon ground nutmeg1/4 teaspoon ground allspice1/4 teaspoon ground cloves1/4 teaspoon ground cardamom1/4 teaspoon fresh ground black pepper2 cups (400 g) white granulated sugar3/4 cup (175 mL) neutral flavored cooking oil (like sunflower)1 lbs (450 g) carrots, finely freshly grated1 cup (160 g) finely chopped fresh pineapple3 large eggs2 teaspoon vanilla extract1/2 teaspoon almond extract\\n1/2 cup (65 g) almond meal or almond flour1 tablespoon baking powder1 teaspoon baking soda3/4 teaspoon fine sea salt1 teaspoon ground cinnamon1/2 teaspoon ground ginger1/2 teaspoon ground nutmeg1/4 teaspoon ground allspice1/4 teaspoon ground cloves1/4 teaspoon ground cardamom1/4 teaspoon fresh ground black pepper2 cups (400 g) white granulated sugar3/4 cup (175 mL) neutral flavored cooking oil (like sunflower)1 lbs (450 g) carrots, finely freshly grated1 cup (160 g) finely chopped fresh pineapple3 large eggs2 teaspoon vanilla extract1/2 teaspoon almond extract\\n1 tablespoon baking powder1 teaspoon baking soda3/4 teaspoon fine sea salt1 teaspoon ground cinnamon1/2 teaspoon ground ginger1/2 teaspoon ground nutmeg1/4 teaspoon ground allspice1/4 teaspoon ground cloves1/4 teaspoon ground cardamom1/4 teaspoon fresh ground black pepper2 cups (400 g) white granulated sugar3/4 cup (175 mL) neutral flavored cooking oil (like sunflower)1 lbs (450 g) carrots, finely freshly grated1 cup (160 g) finely chopped fresh pineapple3 large eggs2 teaspoon vanilla extract1/2 teaspoon almond extract\\n1 teaspoon baking soda3/4 teaspoon fine sea salt1 teaspoon ground cinnamon1/2 teaspoon ground ginger1/2 teaspoon ground nutmeg1/4 teaspoon ground allspice1/4 teaspoon ground cloves1/4 teaspoon ground cardamom1/4 teaspoon fresh ground black pepper2 cups (400 g) white granulated sugar3/4 cup (175 mL) neutral flavored cooking oil (like sunflower)1 lbs (450 g) carrots, finely freshly grated1 cup (160 g) finely chopped fresh pineapple3 large eggs2 teaspoon vanilla extract1/2 teaspoon almond extract\\n3/4 teaspoon fine sea salt1 teaspoon ground cinnamon1/2 teaspoon ground ginger1/2 teaspoon ground nutmeg1/4 teaspoon ground allspice1/4 teaspoon ground cloves1/4 teaspoon ground cardamom1/4 teaspoon fresh ground black pepper2 cups (400 g) white granulated sugar3/4 cup (175 mL) neutral flavored cooking oil (like sunflower)1 lbs (450 g) carrots, finely freshly grated1 cup (160 g) finely chopped fresh pineapple3 large eggs2 teaspoon vanilla extract1/2 teaspoon almond extract\\n1 teaspoon ground cinnamon1/2 teaspoon ground ginger1/2 teaspoon ground nutmeg1/4 teaspoon ground allspice1/4 teaspoon ground cloves1/4 teaspoon ground cardamom1/4 teaspoon fresh ground black pepper2 cups (400 g) white granulated sugar3/4 cup (175 mL) neutral flavored cooking oil (like sunflower)1 lbs (450 g) carrots, finely freshly grated1 cup (160 g) finely chopped fresh pineapple3 large eggs2 teaspoon vanilla extract1/2 teaspoon almond extract\\n1/2 teaspoon ground ginger1/2 teaspoon ground nutmeg1/4 teaspoon ground allspice1/4 teaspoon ground cloves1/4 teaspoon ground cardamom1/4 teaspoon fresh ground black pepper2 cups (400 g) white granulated sugar3/4 cup (175 mL) neutral flavored cooking oil (like sunflower)1 lbs (450 g) carrots, finely freshly grated1 cup (160 g) finely chopped fresh pineapple3 large eggs2 teaspoon vanilla extract1/2 teaspoon almond extract\\n1/2 teaspoon ground nutmeg1/4 teaspoon ground allspice1/4 teaspoon ground cloves1/4 teaspoon ground cardamom1/4 teaspoon fresh ground black pepper2 cups (400 g) white granulated sugar3/4 cup (175 mL) neutral flavored cooking oil (like sunflower)1 lbs (450 g) carrots, finely freshly grated1 cup (160 g) finely chopped fresh pineapple3 large eggs2 teaspoon vanilla extract1/2 teaspoon almond extract\\n1/4 teaspoon ground allspice1/4 teaspoon ground cloves1/4 teaspoon ground cardamom1/4 teaspoon fresh ground black pepper2 cups (400 g) white granulated sugar3/4 cup (175 mL) neutral flavored cooking oil (like sunflower)1 lbs (450 g) carrots, finely freshly grated1 cup (160 g) finely chopped fresh pineapple3 large eggs2 teaspoon vanilla extract1/2 teaspoon almond extract\\n1/4 teaspoon ground cloves1/4 teaspoon ground cardamom1/4 teaspoon fresh ground black pepper2 cups (400 g) white granulated sugar3/4 cup (175 mL) neutral flavored cooking oil (like sunflower)1 lbs (450 g) carrots, finely freshly grated1 cup (160 g) finely chopped fresh pineapple3 large eggs2 teaspoon vanilla extract1/2 teaspoon almond extract\\n1/4 teaspoon ground cardamom1/4 teaspoon fresh ground black pepper2 cups (400 g) white granulated sugar3/4 cup (175 mL) neutral flavored cooking oil (like sunflower)1 lbs (450 g) carrots, finely freshly grated1 cup (160 g) finely chopped fresh pineapple3 large eggs2 teaspoon vanilla extract1/2 teaspoon almond extract\\n1/4 teaspoon fresh ground black pepper2 cups (400 g) white granulated sugar3/4 cup (175 mL) neutral flavored cooking oil (like sunflower)1 lbs (450 g) carrots, finely freshly grated1 cup (160 g) finely chopped fresh pineapple3 large eggs2 teaspoon vanilla extract1/2 teaspoon almond extract\\n2 cups (400 g) white granulated sugar3/4 cup (175 mL) neutral flavored cooking oil (like sunflower)1 lbs (450 g) carrots, finely freshly grated1 cup (160 g) finely chopped fresh pineapple3 large eggs2 teaspoon vanilla extract1/2 teaspoon almond extract\\n3/4 cup (175 mL) neutral flavored cooking oil (like sunflower)1 lbs (450 g) carrots, finely freshly grated1 cup (160 g) finely chopped fresh pineapple3 large eggs2 teaspoon vanilla extract1/2 teaspoon almond extract\\n1 lbs (450 g) carrots, finely freshly grated1 cup (160 g) finely chopped fresh pineapple3 large eggs2 teaspoon vanilla extract1/2 teaspoon almond extract\\n1 cup (160 g) finely chopped fresh pineapple3 large eggs2 teaspoon vanilla extract1/2 teaspoon almond extract\\n3 large eggs2 teaspoon vanilla extract1/2 teaspoon almond extract\\n2 teaspoon vanilla extract1/2 teaspoon almond extract\\n1/2 teaspoon almond extract\\n2 oz (57 g) unsweetened chocolate4 oz (115 g) semisweet chocolate1/2 cup (113 g or 1 stick) unsalted butter3/4 cup (105 g) all purpose flour1/2 teaspoon baking powder1/4 teaspoon sea salt3/4 cup (150 g) granulated white sugar3 large eggs2 teaspoon vanilla extract\\n4 oz (115 g) semisweet chocolate1/2 cup (113 g or 1 stick) unsalted butter3/4 cup (105 g) all purpose flour1/2 teaspoon baking powder1/4 teaspoon sea salt3/4 cup (150 g) granulated white sugar3 large eggs2 teaspoon vanilla extract\\n1/2 cup (113 g or 1 stick) unsalted butter3/4 cup (105 g) all purpose flour1/2 teaspoon baking powder1/4 teaspoon sea salt3/4 cup (150 g) granulated white sugar3 large eggs2 teaspoon vanilla extract\\n3/4 cup (105 g) all purpose flour1/2 teaspoon baking powder1/4 teaspoon sea salt3/4 cup (150 g) granulated white sugar3 large eggs2 teaspoon vanilla extract\\n1/2 teaspoon baking powder1/4 teaspoon sea salt3/4 cup (150 g) granulated white sugar3 large eggs2 teaspoon vanilla extract\\n1/4 teaspoon sea salt3/4 cup (150 g) granulated white sugar3 large eggs2 teaspoon vanilla extract\\n3/4 cup (150 g) granulated white sugar3 large eggs2 teaspoon vanilla extract\\n3 large eggs2 teaspoon vanilla extract\\n2 teaspoon vanilla extract\\n2 cups (475 mL) heavy whipping cream, cold24 oz (3 bricks) full fat cream cheese1 teaspoon vanilla extract1 vanilla bean1 1/2 cup (175 g) confectioners’ sugar (powdered sugar)\\n24 oz (3 bricks) full fat cream cheese1 teaspoon vanilla extract1 vanilla bean1 1/2 cup (175 g) confectioners’ sugar (powdered sugar)\\n1 teaspoon vanilla extract1 vanilla bean1 1/2 cup (175 g) confectioners’ sugar (powdered sugar)\\n1 vanilla bean1 1/2 cup (175 g) confectioners’ sugar (powdered sugar)\\n1 1/2 cup (175 g) confectioners’ sugar (powdered sugar)\\n57 g (2 oz) almond paste1 tablespoon light corn syrup85 g to 115 g (3/4 to 1 cup) confectioners’ sugar (powdered sugar)red, yellow and green gel food colorinh\\n1 tablespoon light corn syrup85 g to 115 g (3/4 to 1 cup) confectioners’ sugar (powdered sugar)red, yellow and green gel food colorinh\\n85 g to 115 g (3/4 to 1 cup) confectioners’ sugar (powdered sugar)red, yellow and green gel food colorinh\\nred, yellow and green gel food colorinh\\n1/2 cup unsweetened shredded coconutgreen and yellow liquid food coloring\\ngreen and yellow liquid food coloring'"
      ]
     },
     "execution_count": 34,
     "metadata": {},
     "output_type": "execute_result"
    }
   ],
   "source": [
    "recipes.iloc[135598].ingredients\n",
    "# Display longest recipe section to estimate amount of data cleaning needed"
   ]
  },
  {
   "cell_type": "code",
   "execution_count": 33,
   "id": "c12053c5",
   "metadata": {},
   "outputs": [
    {
     "data": {
      "text/plain": [
       "'Carrot Pineapple Spice &amp; Brownie Layer Cake with Whipped Cream &amp; Cream Cheese Frosting and Marzipan Carrots'"
      ]
     },
     "execution_count": 33,
     "metadata": {},
     "output_type": "execute_result"
    }
   ],
   "source": [
    "recipes.name.iloc[135598]\n",
    "# Name of the recipe with the longest ingredients section"
   ]
  },
  {
   "cell_type": "code",
   "execution_count": 31,
   "id": "f3abdefc",
   "metadata": {},
   "outputs": [
    {
     "data": {
      "text/plain": [
       "3524"
      ]
     },
     "execution_count": 31,
     "metadata": {},
     "output_type": "execute_result"
    }
   ],
   "source": [
    "recipes.description.str.contains('[Bb]reakfast').sum()\n",
    "# Number of recipes containing word 'Breakfast'/'breakfast' in the recipe description."
   ]
  },
  {
   "cell_type": "code",
   "execution_count": 30,
   "id": "65a0043d",
   "metadata": {},
   "outputs": [
    {
     "data": {
      "text/plain": [
       "10526"
      ]
     },
     "execution_count": 30,
     "metadata": {},
     "output_type": "execute_result"
    }
   ],
   "source": [
    "recipes.ingredients.str.contains('[Cc]innamon').sum()\n",
    "# Number of recipes containing word 'Cinnamon'/'cinnamon' in the ingredients section."
   ]
  },
  {
   "cell_type": "markdown",
   "id": "30a7d40d",
   "metadata": {},
   "source": [
    "## Data analysis"
   ]
  },
  {
   "cell_type": "code",
   "execution_count": 40,
   "id": "974aaf6a",
   "metadata": {},
   "outputs": [],
   "source": [
    "spice_list = ['salt', 'pepper', 'oregano', 'sage', 'parsley', 'rosemary', 'tarragon', 'thyme', 'paprika', 'cumin']\n",
    "# An examplary spices list "
   ]
  },
  {
   "cell_type": "code",
   "execution_count": 45,
   "id": "ff9101d5",
   "metadata": {},
   "outputs": [],
   "source": [
    "import re\n",
    "spice_df = pd.DataFrame (\n",
    "    {\n",
    "        spice: recipes.ingredients.str.contains(spice, re.IGNORECASE)\n",
    "        for spice in spice_list\n",
    "    }\n",
    ")\n",
    "# Creating a dataframe to check if the ingredients sections contain these spice names."
   ]
  },
  {
   "cell_type": "code",
   "execution_count": 47,
   "id": "34047a38",
   "metadata": {},
   "outputs": [
    {
     "data": {
      "text/html": [
       "<div>\n",
       "<style scoped>\n",
       "    .dataframe tbody tr th:only-of-type {\n",
       "        vertical-align: middle;\n",
       "    }\n",
       "\n",
       "    .dataframe tbody tr th {\n",
       "        vertical-align: top;\n",
       "    }\n",
       "\n",
       "    .dataframe thead th {\n",
       "        text-align: right;\n",
       "    }\n",
       "</style>\n",
       "<table border=\"1\" class=\"dataframe\">\n",
       "  <thead>\n",
       "    <tr style=\"text-align: right;\">\n",
       "      <th></th>\n",
       "      <th>salt</th>\n",
       "      <th>pepper</th>\n",
       "      <th>oregano</th>\n",
       "      <th>sage</th>\n",
       "      <th>parsley</th>\n",
       "      <th>rosemary</th>\n",
       "      <th>tarragon</th>\n",
       "      <th>thyme</th>\n",
       "      <th>paprika</th>\n",
       "      <th>cumin</th>\n",
       "    </tr>\n",
       "  </thead>\n",
       "  <tbody>\n",
       "    <tr>\n",
       "      <th>0</th>\n",
       "      <td>False</td>\n",
       "      <td>False</td>\n",
       "      <td>False</td>\n",
       "      <td>True</td>\n",
       "      <td>False</td>\n",
       "      <td>False</td>\n",
       "      <td>False</td>\n",
       "      <td>False</td>\n",
       "      <td>False</td>\n",
       "      <td>False</td>\n",
       "    </tr>\n",
       "    <tr>\n",
       "      <th>1</th>\n",
       "      <td>False</td>\n",
       "      <td>False</td>\n",
       "      <td>False</td>\n",
       "      <td>False</td>\n",
       "      <td>False</td>\n",
       "      <td>False</td>\n",
       "      <td>False</td>\n",
       "      <td>False</td>\n",
       "      <td>False</td>\n",
       "      <td>False</td>\n",
       "    </tr>\n",
       "    <tr>\n",
       "      <th>2</th>\n",
       "      <td>True</td>\n",
       "      <td>True</td>\n",
       "      <td>False</td>\n",
       "      <td>False</td>\n",
       "      <td>False</td>\n",
       "      <td>False</td>\n",
       "      <td>False</td>\n",
       "      <td>False</td>\n",
       "      <td>False</td>\n",
       "      <td>True</td>\n",
       "    </tr>\n",
       "    <tr>\n",
       "      <th>3</th>\n",
       "      <td>False</td>\n",
       "      <td>False</td>\n",
       "      <td>False</td>\n",
       "      <td>False</td>\n",
       "      <td>False</td>\n",
       "      <td>False</td>\n",
       "      <td>False</td>\n",
       "      <td>False</td>\n",
       "      <td>False</td>\n",
       "      <td>False</td>\n",
       "    </tr>\n",
       "    <tr>\n",
       "      <th>4</th>\n",
       "      <td>False</td>\n",
       "      <td>False</td>\n",
       "      <td>False</td>\n",
       "      <td>False</td>\n",
       "      <td>False</td>\n",
       "      <td>False</td>\n",
       "      <td>False</td>\n",
       "      <td>False</td>\n",
       "      <td>False</td>\n",
       "      <td>False</td>\n",
       "    </tr>\n",
       "  </tbody>\n",
       "</table>\n",
       "</div>"
      ],
      "text/plain": [
       "    salt  pepper  oregano   sage  parsley  rosemary  tarragon  thyme  paprika  \\\n",
       "0  False   False    False   True    False     False     False  False    False   \n",
       "1  False   False    False  False    False     False     False  False    False   \n",
       "2   True    True    False  False    False     False     False  False    False   \n",
       "3  False   False    False  False    False     False     False  False    False   \n",
       "4  False   False    False  False    False     False     False  False    False   \n",
       "\n",
       "   cumin  \n",
       "0  False  \n",
       "1  False  \n",
       "2   True  \n",
       "3  False  \n",
       "4  False  "
      ]
     },
     "execution_count": 47,
     "metadata": {},
     "output_type": "execute_result"
    }
   ],
   "source": [
    "spice_df.head()"
   ]
  },
  {
   "cell_type": "code",
   "execution_count": 50,
   "id": "cf3cfb94",
   "metadata": {},
   "outputs": [
    {
     "data": {
      "text/plain": [
       "0         False\n",
       "1         False\n",
       "2         False\n",
       "3         False\n",
       "4         False\n",
       "          ...  \n",
       "173273    False\n",
       "173274    False\n",
       "173275    False\n",
       "173276    False\n",
       "173277    False\n",
       "Length: 173278, dtype: bool"
      ]
     },
     "execution_count": 50,
     "metadata": {},
     "output_type": "execute_result"
    }
   ],
   "source": [
    "spice_df['parsley'] & spice_df['paprika'] & spice_df['tarragon']"
   ]
  },
  {
   "cell_type": "code",
   "execution_count": 55,
   "id": "8bf8638b",
   "metadata": {},
   "outputs": [],
   "source": [
    "# another way with a sql-like query\n",
    "selection = spice_df.query('parsley & paprika & tarragon')"
   ]
  },
  {
   "cell_type": "code",
   "execution_count": 56,
   "id": "cc6612da",
   "metadata": {},
   "outputs": [
    {
     "data": {
      "text/plain": [
       "Int64Index([2069, 74964, 93768, 113926, 137686, 140530, 158475, 158486, 163175,\n",
       "            165243],\n",
       "           dtype='int64')"
      ]
     },
     "execution_count": 56,
     "metadata": {},
     "output_type": "execute_result"
    }
   ],
   "source": [
    "selection.index"
   ]
  },
  {
   "cell_type": "code",
   "execution_count": 57,
   "id": "7f966249",
   "metadata": {
    "scrolled": true
   },
   "outputs": [
    {
     "data": {
      "text/plain": [
       "2069      All cremat with a Little Gem, dandelion and wa...\n",
       "74964                         Lobster with Thermidor butter\n",
       "93768      Burton's Southern Fried Chicken with White Gravy\n",
       "113926                     Mijo's Slow Cooker Shredded Beef\n",
       "137686                     Asparagus Soup with Poached Eggs\n",
       "140530                                 Fried Oyster Po’boys\n",
       "158475                Lamb shank tagine with herb tabbouleh\n",
       "158486                 Southern fried chicken in buttermilk\n",
       "163175            Fried Chicken Sliders with Pickles + Slaw\n",
       "165243                        Bar Tartine Cauliflower Salad\n",
       "Name: name, dtype: object"
      ]
     },
     "execution_count": 57,
     "metadata": {},
     "output_type": "execute_result"
    }
   ],
   "source": [
    "recipes.name[selection.index]"
   ]
  },
  {
   "cell_type": "code",
   "execution_count": 58,
   "id": "23af2692",
   "metadata": {},
   "outputs": [
    {
     "data": {
      "text/html": [
       "<div>\n",
       "<style scoped>\n",
       "    .dataframe tbody tr th:only-of-type {\n",
       "        vertical-align: middle;\n",
       "    }\n",
       "\n",
       "    .dataframe tbody tr th {\n",
       "        vertical-align: top;\n",
       "    }\n",
       "\n",
       "    .dataframe thead th {\n",
       "        text-align: right;\n",
       "    }\n",
       "</style>\n",
       "<table border=\"1\" class=\"dataframe\">\n",
       "  <thead>\n",
       "    <tr style=\"text-align: right;\">\n",
       "      <th></th>\n",
       "      <th>salt</th>\n",
       "      <th>pepper</th>\n",
       "      <th>oregano</th>\n",
       "      <th>sage</th>\n",
       "      <th>parsley</th>\n",
       "      <th>rosemary</th>\n",
       "      <th>tarragon</th>\n",
       "      <th>thyme</th>\n",
       "      <th>paprika</th>\n",
       "      <th>cumin</th>\n",
       "    </tr>\n",
       "  </thead>\n",
       "  <tbody>\n",
       "  </tbody>\n",
       "</table>\n",
       "</div>"
      ],
      "text/plain": [
       "Empty DataFrame\n",
       "Columns: [salt, pepper, oregano, sage, parsley, rosemary, tarragon, thyme, paprika, cumin]\n",
       "Index: []"
      ]
     },
     "execution_count": 58,
     "metadata": {},
     "output_type": "execute_result"
    }
   ],
   "source": [
    "spice_df.query(' & '.join(spice_list))"
   ]
  },
  {
   "cell_type": "code",
   "execution_count": null,
   "id": "286c2110",
   "metadata": {},
   "outputs": [],
   "source": []
  }
 ],
 "metadata": {
  "kernelspec": {
   "display_name": "Python 3 (ipykernel)",
   "language": "python",
   "name": "python3"
  },
  "language_info": {
   "codemirror_mode": {
    "name": "ipython",
    "version": 3
   },
   "file_extension": ".py",
   "mimetype": "text/x-python",
   "name": "python",
   "nbconvert_exporter": "python",
   "pygments_lexer": "ipython3",
   "version": "3.9.9"
  }
 },
 "nbformat": 4,
 "nbformat_minor": 5
}
