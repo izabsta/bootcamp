{
 "cells": [
  {
   "cell_type": "markdown",
   "id": "2069b41e",
   "metadata": {},
   "source": [
    "__NumPy__"
   ]
  },
  {
   "cell_type": "code",
   "execution_count": 1,
   "id": "e288f520",
   "metadata": {},
   "outputs": [
    {
     "data": {
      "text/plain": [
       "'1.22.0'"
      ]
     },
     "execution_count": 1,
     "metadata": {},
     "output_type": "execute_result"
    }
   ],
   "source": [
    "import numpy as np\n",
    "np.__version__"
   ]
  },
  {
   "cell_type": "markdown",
   "id": "30407fd5",
   "metadata": {},
   "source": [
    "__Typy danych__"
   ]
  },
  {
   "cell_type": "code",
   "execution_count": 2,
   "id": "4930c77f",
   "metadata": {},
   "outputs": [],
   "source": [
    "l= [1, '2', True, 3.0, None]"
   ]
  },
  {
   "cell_type": "code",
   "execution_count": 3,
   "id": "d1705d6f",
   "metadata": {},
   "outputs": [
    {
     "data": {
      "text/plain": [
       "[int, str, bool, float, NoneType]"
      ]
     },
     "execution_count": 3,
     "metadata": {},
     "output_type": "execute_result"
    }
   ],
   "source": [
    "[type(item) for item in l]"
   ]
  },
  {
   "cell_type": "code",
   "execution_count": 4,
   "id": "3b2e55ae",
   "metadata": {},
   "outputs": [
    {
     "data": {
      "text/plain": [
       "array([1, 2, 3, 4, 5])"
      ]
     },
     "execution_count": 4,
     "metadata": {},
     "output_type": "execute_result"
    }
   ],
   "source": [
    "np.array([1, 2, 3, 4, 5])"
   ]
  },
  {
   "cell_type": "code",
   "execution_count": 5,
   "id": "88c0159c",
   "metadata": {},
   "outputs": [
    {
     "data": {
      "text/plain": [
       "array([4.1, 0. , 1. , 2. , 5. ])"
      ]
     },
     "execution_count": 5,
     "metadata": {},
     "output_type": "execute_result"
    }
   ],
   "source": [
    "np.array([4.1, 0, 1, 2, 5])"
   ]
  },
  {
   "cell_type": "markdown",
   "id": "b2dc7d3a",
   "metadata": {},
   "source": [
    "__Sposoby tworzenia tablic w NumPy__"
   ]
  },
  {
   "cell_type": "code",
   "execution_count": 6,
   "id": "26d1aacc",
   "metadata": {},
   "outputs": [
    {
     "data": {
      "text/plain": [
       "array([0., 0., 0., 0., 0., 0., 0., 0., 0., 0.])"
      ]
     },
     "execution_count": 6,
     "metadata": {},
     "output_type": "execute_result"
    }
   ],
   "source": [
    "np.zeros(10, dtype=float)"
   ]
  },
  {
   "cell_type": "code",
   "execution_count": 7,
   "id": "1129fd6e",
   "metadata": {},
   "outputs": [
    {
     "data": {
      "text/plain": [
       "array([1., 1., 1., 1., 1.])"
      ]
     },
     "execution_count": 7,
     "metadata": {},
     "output_type": "execute_result"
    }
   ],
   "source": [
    "np.ones(5, dtype=float)"
   ]
  },
  {
   "cell_type": "code",
   "execution_count": 8,
   "id": "a111ec2f",
   "metadata": {},
   "outputs": [
    {
     "data": {
      "text/plain": [
       "array([[1., 1., 1.],\n",
       "       [1., 1., 1.],\n",
       "       [1., 1., 1.],\n",
       "       [1., 1., 1.],\n",
       "       [1., 1., 1.]])"
      ]
     },
     "execution_count": 8,
     "metadata": {},
     "output_type": "execute_result"
    }
   ],
   "source": [
    "np.ones((5, 3))"
   ]
  },
  {
   "cell_type": "code",
   "execution_count": 9,
   "id": "fcbf102a",
   "metadata": {},
   "outputs": [
    {
     "data": {
      "text/plain": [
       "array([[[1., 1., 1.],\n",
       "        [1., 1., 1.],\n",
       "        [1., 1., 1.]],\n",
       "\n",
       "       [[1., 1., 1.],\n",
       "        [1., 1., 1.],\n",
       "        [1., 1., 1.]],\n",
       "\n",
       "       [[1., 1., 1.],\n",
       "        [1., 1., 1.],\n",
       "        [1., 1., 1.]],\n",
       "\n",
       "       [[1., 1., 1.],\n",
       "        [1., 1., 1.],\n",
       "        [1., 1., 1.]],\n",
       "\n",
       "       [[1., 1., 1.],\n",
       "        [1., 1., 1.],\n",
       "        [1., 1., 1.]]])"
      ]
     },
     "execution_count": 9,
     "metadata": {},
     "output_type": "execute_result"
    }
   ],
   "source": [
    "np.ones((5, 3, 3))"
   ]
  },
  {
   "cell_type": "code",
   "execution_count": 10,
   "id": "8c26e968",
   "metadata": {},
   "outputs": [
    {
     "data": {
      "text/plain": [
       "array([ 0,  2,  4,  6,  8, 10, 12, 14, 16, 18])"
      ]
     },
     "execution_count": 10,
     "metadata": {},
     "output_type": "execute_result"
    }
   ],
   "source": [
    "np.arange(0, 20, 2)"
   ]
  },
  {
   "cell_type": "code",
   "execution_count": 11,
   "id": "0fa3aa1e",
   "metadata": {},
   "outputs": [
    {
     "data": {
      "text/plain": [
       "array([[-0.16077509, -0.52354139, -0.23185698],\n",
       "       [-0.83351218, -0.380309  ,  0.27613514],\n",
       "       [ 1.18039085, -1.21427205, -1.02830128]])"
      ]
     },
     "execution_count": 11,
     "metadata": {},
     "output_type": "execute_result"
    }
   ],
   "source": [
    "np.random.normal(0, 1, (3, 3))"
   ]
  },
  {
   "cell_type": "code",
   "execution_count": 12,
   "id": "7ae6f880",
   "metadata": {},
   "outputs": [
    {
     "data": {
      "text/plain": [
       "array([[8, 3, 4, 1, 0],\n",
       "       [5, 3, 6, 6, 8],\n",
       "       [2, 9, 8, 0, 4],\n",
       "       [7, 1, 5, 7, 1]])"
      ]
     },
     "execution_count": 12,
     "metadata": {},
     "output_type": "execute_result"
    }
   ],
   "source": [
    "np.random.randint(0, 10, (4, 5))    "
   ]
  },
  {
   "cell_type": "markdown",
   "id": "a09403a9",
   "metadata": {},
   "source": [
    "__Operowanie na tablicach w NumPy__"
   ]
  },
  {
   "cell_type": "code",
   "execution_count": 13,
   "id": "b9945e14",
   "metadata": {},
   "outputs": [],
   "source": [
    "x = np.random.randint(100, size=(2, 3, 4))"
   ]
  },
  {
   "cell_type": "code",
   "execution_count": 14,
   "id": "fa837d06",
   "metadata": {},
   "outputs": [
    {
     "data": {
      "text/plain": [
       "array([[[11, 43, 93, 57],\n",
       "        [21, 53, 37, 66],\n",
       "        [71, 72,  7, 67]],\n",
       "\n",
       "       [[65, 25, 62, 69],\n",
       "        [13, 47, 99, 98],\n",
       "        [12, 81, 87, 13]]])"
      ]
     },
     "execution_count": 14,
     "metadata": {},
     "output_type": "execute_result"
    }
   ],
   "source": [
    "x"
   ]
  },
  {
   "cell_type": "code",
   "execution_count": 15,
   "id": "423013a2",
   "metadata": {},
   "outputs": [
    {
     "name": "stdout",
     "output_type": "stream",
     "text": [
      "Liczba wymiarów: 3\n"
     ]
    }
   ],
   "source": [
    "print(f\"Liczba wymiarów: {x.ndim}\")"
   ]
  },
  {
   "cell_type": "code",
   "execution_count": 16,
   "id": "ae61104f",
   "metadata": {},
   "outputs": [
    {
     "name": "stdout",
     "output_type": "stream",
     "text": [
      "Wymiary: (2, 3, 4)\n"
     ]
    }
   ],
   "source": [
    "print(f\"Wymiary: {x.shape}\")"
   ]
  },
  {
   "cell_type": "code",
   "execution_count": 17,
   "id": "3c433d30",
   "metadata": {},
   "outputs": [
    {
     "name": "stdout",
     "output_type": "stream",
     "text": [
      "Rozmiar: 24\n"
     ]
    }
   ],
   "source": [
    "print(f\"Rozmiar: {x.size}\")"
   ]
  },
  {
   "cell_type": "code",
   "execution_count": 18,
   "id": "deb27c3e",
   "metadata": {},
   "outputs": [
    {
     "name": "stdout",
     "output_type": "stream",
     "text": [
      "Typ w tablicy: int32\n"
     ]
    }
   ],
   "source": [
    "print(f\"Typ w tablicy: {x.dtype}\")"
   ]
  },
  {
   "cell_type": "code",
   "execution_count": 19,
   "id": "2676bd7f",
   "metadata": {},
   "outputs": [
    {
     "name": "stdout",
     "output_type": "stream",
     "text": [
      "Rozmiar jednego elementu: 4 bajtów\n"
     ]
    }
   ],
   "source": [
    "print(f\"Rozmiar jednego elementu: {x.itemsize} bajtów\")"
   ]
  },
  {
   "cell_type": "code",
   "execution_count": 20,
   "id": "91ae0e8b",
   "metadata": {},
   "outputs": [
    {
     "name": "stdout",
     "output_type": "stream",
     "text": [
      "Rozmiar całej tablicy: 96\n"
     ]
    }
   ],
   "source": [
    "print(f\"Rozmiar całej tablicy: {x.nbytes}\")"
   ]
  },
  {
   "cell_type": "code",
   "execution_count": 21,
   "id": "22e56553",
   "metadata": {},
   "outputs": [],
   "source": [
    "y=np.arange(10)"
   ]
  },
  {
   "cell_type": "code",
   "execution_count": 22,
   "id": "1117b383",
   "metadata": {},
   "outputs": [
    {
     "data": {
      "text/plain": [
       "array([0, 1, 2, 3, 4, 5, 6, 7, 8, 9])"
      ]
     },
     "execution_count": 22,
     "metadata": {},
     "output_type": "execute_result"
    }
   ],
   "source": [
    "y"
   ]
  },
  {
   "cell_type": "code",
   "execution_count": 23,
   "id": "98ee667d",
   "metadata": {},
   "outputs": [
    {
     "data": {
      "text/plain": [
       "5"
      ]
     },
     "execution_count": 23,
     "metadata": {},
     "output_type": "execute_result"
    }
   ],
   "source": [
    "y[5]"
   ]
  },
  {
   "cell_type": "code",
   "execution_count": 24,
   "id": "54c90944",
   "metadata": {},
   "outputs": [
    {
     "data": {
      "text/plain": [
       "0"
      ]
     },
     "execution_count": 24,
     "metadata": {},
     "output_type": "execute_result"
    }
   ],
   "source": [
    "y[0]"
   ]
  },
  {
   "cell_type": "code",
   "execution_count": 25,
   "id": "79e9281f",
   "metadata": {},
   "outputs": [
    {
     "data": {
      "text/plain": [
       "9"
      ]
     },
     "execution_count": 25,
     "metadata": {},
     "output_type": "execute_result"
    }
   ],
   "source": [
    "y[-1]"
   ]
  },
  {
   "cell_type": "code",
   "execution_count": 26,
   "id": "46f99c66",
   "metadata": {},
   "outputs": [
    {
     "data": {
      "text/plain": [
       "37"
      ]
     },
     "execution_count": 26,
     "metadata": {},
     "output_type": "execute_result"
    }
   ],
   "source": [
    "x[0, 1, 2] # element o współrzędnych (0, 1, 2)"
   ]
  },
  {
   "cell_type": "code",
   "execution_count": 27,
   "id": "16560812",
   "metadata": {},
   "outputs": [],
   "source": [
    "x[0, 1, 2] = 42"
   ]
  },
  {
   "cell_type": "code",
   "execution_count": 28,
   "id": "c3da2974",
   "metadata": {},
   "outputs": [
    {
     "data": {
      "text/plain": [
       "array([[[11, 43, 93, 57],\n",
       "        [21, 53, 42, 66],\n",
       "        [71, 72,  7, 67]],\n",
       "\n",
       "       [[65, 25, 62, 69],\n",
       "        [13, 47, 99, 98],\n",
       "        [12, 81, 87, 13]]])"
      ]
     },
     "execution_count": 28,
     "metadata": {},
     "output_type": "execute_result"
    }
   ],
   "source": [
    "x"
   ]
  },
  {
   "cell_type": "code",
   "execution_count": 29,
   "id": "5b473fa5",
   "metadata": {},
   "outputs": [
    {
     "data": {
      "text/plain": [
       "array([0, 1, 2, 3, 4])"
      ]
     },
     "execution_count": 29,
     "metadata": {},
     "output_type": "execute_result"
    }
   ],
   "source": [
    "y[0:5]"
   ]
  },
  {
   "cell_type": "code",
   "execution_count": 30,
   "id": "0537dc76",
   "metadata": {},
   "outputs": [
    {
     "data": {
      "text/plain": [
       "array([0, 1, 2, 3, 4])"
      ]
     },
     "execution_count": 30,
     "metadata": {},
     "output_type": "execute_result"
    }
   ],
   "source": [
    "y[:5]"
   ]
  },
  {
   "cell_type": "code",
   "execution_count": 31,
   "id": "bdc6a07a",
   "metadata": {},
   "outputs": [
    {
     "data": {
      "text/plain": [
       "array([4, 5, 6])"
      ]
     },
     "execution_count": 31,
     "metadata": {},
     "output_type": "execute_result"
    }
   ],
   "source": [
    "y[4:7]"
   ]
  },
  {
   "cell_type": "code",
   "execution_count": 32,
   "id": "7817ec51",
   "metadata": {},
   "outputs": [
    {
     "data": {
      "text/plain": [
       "array([[[11, 43, 93],\n",
       "        [21, 53, 42],\n",
       "        [71, 72,  7]]])"
      ]
     },
     "execution_count": 32,
     "metadata": {},
     "output_type": "execute_result"
    }
   ],
   "source": [
    "x[:1, :, :3]"
   ]
  },
  {
   "cell_type": "code",
   "execution_count": 33,
   "id": "e9034631",
   "metadata": {},
   "outputs": [],
   "source": [
    "l1 = [1, 2, 3, 4]\n",
    "l2 = l1[2:]"
   ]
  },
  {
   "cell_type": "code",
   "execution_count": 34,
   "id": "ada3f617",
   "metadata": {},
   "outputs": [
    {
     "data": {
      "text/plain": [
       "[1, 2, 3, 4]"
      ]
     },
     "execution_count": 34,
     "metadata": {},
     "output_type": "execute_result"
    }
   ],
   "source": [
    "l1"
   ]
  },
  {
   "cell_type": "code",
   "execution_count": 35,
   "id": "b07af259",
   "metadata": {},
   "outputs": [
    {
     "data": {
      "text/plain": [
       "[3, 4]"
      ]
     },
     "execution_count": 35,
     "metadata": {},
     "output_type": "execute_result"
    }
   ],
   "source": [
    "l2"
   ]
  },
  {
   "cell_type": "code",
   "execution_count": 36,
   "id": "0b7367f4",
   "metadata": {},
   "outputs": [],
   "source": [
    "l2[0]= 66"
   ]
  },
  {
   "cell_type": "code",
   "execution_count": 37,
   "id": "02bc7cd4",
   "metadata": {},
   "outputs": [
    {
     "data": {
      "text/plain": [
       "[66, 4]"
      ]
     },
     "execution_count": 37,
     "metadata": {},
     "output_type": "execute_result"
    }
   ],
   "source": [
    "l2"
   ]
  },
  {
   "cell_type": "code",
   "execution_count": 38,
   "id": "20931f5e",
   "metadata": {},
   "outputs": [
    {
     "data": {
      "text/plain": [
       "[1, 2, 3, 4]"
      ]
     },
     "execution_count": 38,
     "metadata": {},
     "output_type": "execute_result"
    }
   ],
   "source": [
    "l1"
   ]
  },
  {
   "cell_type": "code",
   "execution_count": 39,
   "id": "c5aae72a",
   "metadata": {},
   "outputs": [],
   "source": [
    "x=np.zeros((2, 3))"
   ]
  },
  {
   "cell_type": "code",
   "execution_count": 40,
   "id": "1dd3df53",
   "metadata": {},
   "outputs": [
    {
     "data": {
      "text/plain": [
       "array([[0., 0., 0.],\n",
       "       [0., 0., 0.]])"
      ]
     },
     "execution_count": 40,
     "metadata": {},
     "output_type": "execute_result"
    }
   ],
   "source": [
    "x"
   ]
  },
  {
   "cell_type": "code",
   "execution_count": 41,
   "id": "5d73ad2a",
   "metadata": {},
   "outputs": [],
   "source": [
    "y= x[0, :]"
   ]
  },
  {
   "cell_type": "code",
   "execution_count": 42,
   "id": "951ece65",
   "metadata": {},
   "outputs": [
    {
     "data": {
      "text/plain": [
       "array([0., 0., 0.])"
      ]
     },
     "execution_count": 42,
     "metadata": {},
     "output_type": "execute_result"
    }
   ],
   "source": [
    "y"
   ]
  },
  {
   "cell_type": "code",
   "execution_count": 43,
   "id": "de65af85",
   "metadata": {},
   "outputs": [],
   "source": [
    "y[0] = 1"
   ]
  },
  {
   "cell_type": "code",
   "execution_count": 44,
   "id": "391d357a",
   "metadata": {},
   "outputs": [
    {
     "data": {
      "text/plain": [
       "array([1., 0., 0.])"
      ]
     },
     "execution_count": 44,
     "metadata": {},
     "output_type": "execute_result"
    }
   ],
   "source": [
    "y"
   ]
  },
  {
   "cell_type": "code",
   "execution_count": 45,
   "id": "90120958",
   "metadata": {},
   "outputs": [
    {
     "data": {
      "text/plain": [
       "array([[1., 0., 0.],\n",
       "       [0., 0., 0.]])"
      ]
     },
     "execution_count": 45,
     "metadata": {},
     "output_type": "execute_result"
    }
   ],
   "source": [
    "x"
   ]
  },
  {
   "cell_type": "code",
   "execution_count": 46,
   "id": "44411048",
   "metadata": {},
   "outputs": [],
   "source": [
    "x_copy = x[:2, :2].copy()"
   ]
  },
  {
   "cell_type": "code",
   "execution_count": 47,
   "id": "9b38a88d",
   "metadata": {},
   "outputs": [],
   "source": [
    "x_copy[0,0] = 42"
   ]
  },
  {
   "cell_type": "code",
   "execution_count": 48,
   "id": "02e9cbb6",
   "metadata": {},
   "outputs": [
    {
     "data": {
      "text/plain": [
       "array([[1., 0., 0.],\n",
       "       [0., 0., 0.]])"
      ]
     },
     "execution_count": 48,
     "metadata": {},
     "output_type": "execute_result"
    }
   ],
   "source": [
    "x"
   ]
  },
  {
   "cell_type": "code",
   "execution_count": 49,
   "id": "8a9e2154",
   "metadata": {},
   "outputs": [
    {
     "data": {
      "text/plain": [
       "array([[42.,  0.],\n",
       "       [ 0.,  0.]])"
      ]
     },
     "execution_count": 49,
     "metadata": {},
     "output_type": "execute_result"
    }
   ],
   "source": [
    "x_copy"
   ]
  },
  {
   "cell_type": "markdown",
   "id": "4b48cbe7",
   "metadata": {},
   "source": [
    "__Zmiana wymiarów tablicy__"
   ]
  },
  {
   "cell_type": "code",
   "execution_count": 50,
   "id": "47c1d9be",
   "metadata": {},
   "outputs": [
    {
     "data": {
      "text/plain": [
       "array([[1, 2, 3],\n",
       "       [4, 5, 6],\n",
       "       [7, 8, 9]])"
      ]
     },
     "execution_count": 50,
     "metadata": {},
     "output_type": "execute_result"
    }
   ],
   "source": [
    "np.arange(1, 10).reshape((3, 3))"
   ]
  },
  {
   "cell_type": "code",
   "execution_count": 51,
   "id": "2319691b",
   "metadata": {},
   "outputs": [
    {
     "ename": "ValueError",
     "evalue": "cannot reshape array of size 9 into shape (4,3)",
     "output_type": "error",
     "traceback": [
      "\u001b[1;31m---------------------------------------------------------------------------\u001b[0m",
      "\u001b[1;31mValueError\u001b[0m                                Traceback (most recent call last)",
      "\u001b[1;32m~\\AppData\\Local\\Temp/ipykernel_13048/540760402.py\u001b[0m in \u001b[0;36m<module>\u001b[1;34m\u001b[0m\n\u001b[1;32m----> 1\u001b[1;33m \u001b[0mnp\u001b[0m\u001b[1;33m.\u001b[0m\u001b[0marange\u001b[0m\u001b[1;33m(\u001b[0m\u001b[1;36m1\u001b[0m\u001b[1;33m,\u001b[0m \u001b[1;36m10\u001b[0m\u001b[1;33m)\u001b[0m\u001b[1;33m.\u001b[0m\u001b[0mreshape\u001b[0m\u001b[1;33m(\u001b[0m\u001b[1;33m(\u001b[0m\u001b[1;36m4\u001b[0m\u001b[1;33m,\u001b[0m \u001b[1;36m3\u001b[0m\u001b[1;33m)\u001b[0m\u001b[1;33m)\u001b[0m\u001b[1;33m\u001b[0m\u001b[1;33m\u001b[0m\u001b[0m\n\u001b[0m",
      "\u001b[1;31mValueError\u001b[0m: cannot reshape array of size 9 into shape (4,3)"
     ]
    }
   ],
   "source": [
    "np.arange(1, 10).reshape((4, 3))"
   ]
  },
  {
   "cell_type": "code",
   "execution_count": 52,
   "id": "1d8d2828",
   "metadata": {},
   "outputs": [],
   "source": [
    "x = np. array([1, 2, 3])"
   ]
  },
  {
   "cell_type": "code",
   "execution_count": 53,
   "id": "2f48eea6",
   "metadata": {},
   "outputs": [
    {
     "data": {
      "text/plain": [
       "array([1, 2, 3])"
      ]
     },
     "execution_count": 53,
     "metadata": {},
     "output_type": "execute_result"
    }
   ],
   "source": [
    "x"
   ]
  },
  {
   "cell_type": "code",
   "execution_count": 54,
   "id": "01dcd40f",
   "metadata": {},
   "outputs": [
    {
     "data": {
      "text/plain": [
       "array([[1, 2, 3]])"
      ]
     },
     "execution_count": 54,
     "metadata": {},
     "output_type": "execute_result"
    }
   ],
   "source": [
    "x.reshape((1, 3))"
   ]
  },
  {
   "cell_type": "code",
   "execution_count": 55,
   "id": "bfa09668",
   "metadata": {},
   "outputs": [
    {
     "data": {
      "text/plain": [
       "array([[1],\n",
       "       [2],\n",
       "       [3]])"
      ]
     },
     "execution_count": 55,
     "metadata": {},
     "output_type": "execute_result"
    }
   ],
   "source": [
    "x.reshape((3, 1))"
   ]
  },
  {
   "cell_type": "markdown",
   "id": "2f17a72e",
   "metadata": {},
   "source": [
    "__Łączenie tablic__"
   ]
  },
  {
   "cell_type": "code",
   "execution_count": 56,
   "id": "e777e11c",
   "metadata": {},
   "outputs": [],
   "source": [
    "x = np.array([1, 2, 3])\n",
    "y = np.array([3, 2, 1])"
   ]
  },
  {
   "cell_type": "code",
   "execution_count": 57,
   "id": "cc32b8dd",
   "metadata": {},
   "outputs": [
    {
     "data": {
      "text/plain": [
       "array([1, 2, 3, 3, 2, 1])"
      ]
     },
     "execution_count": 57,
     "metadata": {},
     "output_type": "execute_result"
    }
   ],
   "source": [
    "np.concatenate([x, y])"
   ]
  },
  {
   "cell_type": "code",
   "execution_count": 58,
   "id": "0abd7ad2",
   "metadata": {},
   "outputs": [],
   "source": [
    "grid = np.array([[1, 2, 3],\n",
    "               [4, 5, 6]])"
   ]
  },
  {
   "cell_type": "code",
   "execution_count": 59,
   "id": "c3de3c42",
   "metadata": {},
   "outputs": [
    {
     "data": {
      "text/plain": [
       "array([[1, 2, 3],\n",
       "       [4, 5, 6]])"
      ]
     },
     "execution_count": 59,
     "metadata": {},
     "output_type": "execute_result"
    }
   ],
   "source": [
    "grid"
   ]
  },
  {
   "cell_type": "code",
   "execution_count": 60,
   "id": "ae30ba69",
   "metadata": {},
   "outputs": [
    {
     "data": {
      "text/plain": [
       "array([[1, 2, 3],\n",
       "       [4, 5, 6],\n",
       "       [1, 2, 3],\n",
       "       [4, 5, 6]])"
      ]
     },
     "execution_count": 60,
     "metadata": {},
     "output_type": "execute_result"
    }
   ],
   "source": [
    "np.concatenate([grid, grid])"
   ]
  },
  {
   "cell_type": "code",
   "execution_count": 61,
   "id": "516ecaf8",
   "metadata": {},
   "outputs": [
    {
     "data": {
      "text/plain": [
       "array([[1, 2, 3, 1, 2, 3],\n",
       "       [4, 5, 6, 4, 5, 6]])"
      ]
     },
     "execution_count": 61,
     "metadata": {},
     "output_type": "execute_result"
    }
   ],
   "source": [
    "np.concatenate([grid, grid], axis=1)"
   ]
  },
  {
   "cell_type": "code",
   "execution_count": 62,
   "id": "3c7f6b30",
   "metadata": {},
   "outputs": [
    {
     "data": {
      "text/plain": [
       "array([[1, 2, 3],\n",
       "       [4, 5, 6],\n",
       "       [1, 2, 3],\n",
       "       [4, 5, 6]])"
      ]
     },
     "execution_count": 62,
     "metadata": {},
     "output_type": "execute_result"
    }
   ],
   "source": [
    "np.vstack([grid, grid])"
   ]
  },
  {
   "cell_type": "code",
   "execution_count": 63,
   "id": "1c31d1b0",
   "metadata": {},
   "outputs": [
    {
     "data": {
      "text/plain": [
       "array([[1, 2, 3, 1, 2, 3],\n",
       "       [4, 5, 6, 4, 5, 6]])"
      ]
     },
     "execution_count": 63,
     "metadata": {},
     "output_type": "execute_result"
    }
   ],
   "source": [
    "np.hstack([grid, grid])"
   ]
  },
  {
   "cell_type": "code",
   "execution_count": 64,
   "id": "51866344",
   "metadata": {},
   "outputs": [],
   "source": [
    "x = np.arange(10)"
   ]
  },
  {
   "cell_type": "code",
   "execution_count": 65,
   "id": "7c3751d7",
   "metadata": {},
   "outputs": [
    {
     "data": {
      "text/plain": [
       "array([0, 1, 2, 3, 4, 5, 6, 7, 8, 9])"
      ]
     },
     "execution_count": 65,
     "metadata": {},
     "output_type": "execute_result"
    }
   ],
   "source": [
    "x"
   ]
  },
  {
   "cell_type": "code",
   "execution_count": 66,
   "id": "723c3c7c",
   "metadata": {},
   "outputs": [
    {
     "data": {
      "text/plain": [
       "[array([0, 1, 2]), array([3, 4]), array([5, 6, 7, 8, 9])]"
      ]
     },
     "execution_count": 66,
     "metadata": {},
     "output_type": "execute_result"
    }
   ],
   "source": [
    "np.split(x, [3, 5])"
   ]
  },
  {
   "cell_type": "markdown",
   "id": "fc330be2",
   "metadata": {},
   "source": [
    "__Wykonywanie obliczeń na tablicach__"
   ]
  },
  {
   "cell_type": "code",
   "execution_count": 67,
   "id": "7e95f568",
   "metadata": {},
   "outputs": [],
   "source": [
    "# Funkcja, która liczy nową tablicę z odwrotnościami elementów"
   ]
  },
  {
   "cell_type": "code",
   "execution_count": 68,
   "id": "13ba8690",
   "metadata": {},
   "outputs": [],
   "source": [
    "def compute_reciprocals(values):\n",
    "    output = np.empty(len(values))\n",
    "    for i, value in enumerate(values):\n",
    "        output[i] = 1.0 / value\n",
    "    return output\n",
    "\n",
    "values = np.random.randint(1, 10, size=5)"
   ]
  },
  {
   "cell_type": "code",
   "execution_count": 69,
   "id": "b9eccb6b",
   "metadata": {},
   "outputs": [
    {
     "data": {
      "text/plain": [
       "array([4, 2, 7, 4, 2])"
      ]
     },
     "execution_count": 69,
     "metadata": {},
     "output_type": "execute_result"
    }
   ],
   "source": [
    "values"
   ]
  },
  {
   "cell_type": "code",
   "execution_count": 70,
   "id": "7238c75e",
   "metadata": {},
   "outputs": [
    {
     "data": {
      "text/plain": [
       "array([0.25      , 0.5       , 0.14285714, 0.25      , 0.5       ])"
      ]
     },
     "execution_count": 70,
     "metadata": {},
     "output_type": "execute_result"
    }
   ],
   "source": [
    "compute_reciprocals(values)"
   ]
  },
  {
   "cell_type": "code",
   "execution_count": 71,
   "id": "718b6085",
   "metadata": {},
   "outputs": [],
   "source": [
    "big_array = np.random.randint(1, 100, size=1_000_000)"
   ]
  },
  {
   "cell_type": "code",
   "execution_count": 72,
   "id": "0fee9202",
   "metadata": {},
   "outputs": [
    {
     "data": {
      "text/plain": [
       "array([16, 90, 68, ..., 41,  7, 15])"
      ]
     },
     "execution_count": 72,
     "metadata": {},
     "output_type": "execute_result"
    }
   ],
   "source": [
    "big_array"
   ]
  },
  {
   "cell_type": "code",
   "execution_count": 73,
   "id": "cb029982",
   "metadata": {},
   "outputs": [
    {
     "name": "stdout",
     "output_type": "stream",
     "text": [
      "4.74 s ± 414 ms per loop (mean ± std. dev. of 7 runs, 1 loop each)\n"
     ]
    }
   ],
   "source": [
    "%timeit compute_reciprocals(big_array)"
   ]
  },
  {
   "cell_type": "code",
   "execution_count": 74,
   "id": "e87d38ce",
   "metadata": {},
   "outputs": [
    {
     "name": "stdout",
     "output_type": "stream",
     "text": [
      "9.3 ms ± 844 µs per loop (mean ± std. dev. of 7 runs, 100 loops each)\n"
     ]
    }
   ],
   "source": [
    "%timeit 1.0 / big_array"
   ]
  },
  {
   "cell_type": "code",
   "execution_count": 75,
   "id": "fe2433cf",
   "metadata": {},
   "outputs": [
    {
     "data": {
      "text/plain": [
       "array([0, 1, 2, 3, 4, 5, 6, 7, 8, 9])"
      ]
     },
     "execution_count": 75,
     "metadata": {},
     "output_type": "execute_result"
    }
   ],
   "source": [
    "x"
   ]
  },
  {
   "cell_type": "code",
   "execution_count": 76,
   "id": "fe1351ec",
   "metadata": {},
   "outputs": [
    {
     "data": {
      "text/plain": [
       "array([ 2,  3,  4,  5,  6,  7,  8,  9, 10, 11])"
      ]
     },
     "execution_count": 76,
     "metadata": {},
     "output_type": "execute_result"
    }
   ],
   "source": [
    "x+2"
   ]
  },
  {
   "cell_type": "code",
   "execution_count": 77,
   "id": "4674d5db",
   "metadata": {},
   "outputs": [
    {
     "data": {
      "text/plain": [
       "array([0, 1, 0, 1, 0, 1, 0, 1, 0, 1], dtype=int32)"
      ]
     },
     "execution_count": 77,
     "metadata": {},
     "output_type": "execute_result"
    }
   ],
   "source": [
    "x % 2"
   ]
  },
  {
   "cell_type": "code",
   "execution_count": 78,
   "id": "83346025",
   "metadata": {},
   "outputs": [
    {
     "data": {
      "text/plain": [
       "array([ 0,  1,  4,  9, 16, 25, 36, 49, 64, 81])"
      ]
     },
     "execution_count": 78,
     "metadata": {},
     "output_type": "execute_result"
    }
   ],
   "source": [
    "x ** 2"
   ]
  },
  {
   "cell_type": "code",
   "execution_count": 79,
   "id": "65ff14ca",
   "metadata": {},
   "outputs": [
    {
     "data": {
      "text/plain": [
       "45"
      ]
     },
     "execution_count": 79,
     "metadata": {},
     "output_type": "execute_result"
    }
   ],
   "source": [
    "sum(x)"
   ]
  },
  {
   "cell_type": "code",
   "execution_count": 80,
   "id": "e9f3b814",
   "metadata": {},
   "outputs": [
    {
     "name": "stdout",
     "output_type": "stream",
     "text": [
      "154 ms ± 17.3 ms per loop (mean ± std. dev. of 7 runs, 10 loops each)\n"
     ]
    }
   ],
   "source": [
    "%timeit sum(big_array)"
   ]
  },
  {
   "cell_type": "code",
   "execution_count": 81,
   "id": "595048ca",
   "metadata": {},
   "outputs": [
    {
     "name": "stdout",
     "output_type": "stream",
     "text": [
      "881 µs ± 73 µs per loop (mean ± std. dev. of 7 runs, 1000 loops each)\n"
     ]
    }
   ],
   "source": [
    "%timeit np.sum(big_array)"
   ]
  },
  {
   "cell_type": "code",
   "execution_count": 85,
   "id": "a7e9ef1d",
   "metadata": {},
   "outputs": [
    {
     "data": {
      "text/plain": [
       "<function numpy.amin(a, axis=None, out=None, keepdims=<no value>, initial=<no value>, where=<no value>)>"
      ]
     },
     "execution_count": 85,
     "metadata": {},
     "output_type": "execute_result"
    }
   ],
   "source": [
    "np.min"
   ]
  },
  {
   "cell_type": "code",
   "execution_count": 87,
   "id": "7d2458b3",
   "metadata": {},
   "outputs": [],
   "source": [
    "M=np.random.randint(10, size=(3,4))"
   ]
  },
  {
   "cell_type": "code",
   "execution_count": 88,
   "id": "09fba11b",
   "metadata": {},
   "outputs": [
    {
     "data": {
      "text/plain": [
       "array([[2, 5, 4, 7],\n",
       "       [4, 8, 1, 1],\n",
       "       [0, 7, 0, 5]])"
      ]
     },
     "execution_count": 88,
     "metadata": {},
     "output_type": "execute_result"
    }
   ],
   "source": [
    "M"
   ]
  },
  {
   "cell_type": "code",
   "execution_count": 90,
   "id": "6e3810d1",
   "metadata": {},
   "outputs": [
    {
     "data": {
      "text/plain": [
       "array([ 6, 20,  5, 13])"
      ]
     },
     "execution_count": 90,
     "metadata": {},
     "output_type": "execute_result"
    }
   ],
   "source": [
    "M.sum(axis=0)"
   ]
  },
  {
   "cell_type": "code",
   "execution_count": 91,
   "id": "82359db7",
   "metadata": {},
   "outputs": [
    {
     "data": {
      "text/plain": [
       "array([18, 14, 12])"
      ]
     },
     "execution_count": 91,
     "metadata": {},
     "output_type": "execute_result"
    }
   ],
   "source": [
    "M.sum(axis=1)"
   ]
  },
  {
   "cell_type": "markdown",
   "id": "d4cb3696",
   "metadata": {},
   "source": [
    "__Pórównywanie maski i filtrowanie tablic.__"
   ]
  },
  {
   "cell_type": "code",
   "execution_count": 92,
   "id": "a7fd5471",
   "metadata": {},
   "outputs": [],
   "source": [
    "x= np.array([1, 2, 3, 4, 5])"
   ]
  },
  {
   "cell_type": "code",
   "execution_count": 93,
   "id": "b8d8cd5c",
   "metadata": {},
   "outputs": [
    {
     "data": {
      "text/plain": [
       "array([ True,  True, False, False, False])"
      ]
     },
     "execution_count": 93,
     "metadata": {},
     "output_type": "execute_result"
    }
   ],
   "source": [
    "x<3"
   ]
  },
  {
   "cell_type": "code",
   "execution_count": 94,
   "id": "a1ce2b05",
   "metadata": {},
   "outputs": [
    {
     "data": {
      "text/plain": [
       "array([ True,  True, False,  True,  True])"
      ]
     },
     "execution_count": 94,
     "metadata": {},
     "output_type": "execute_result"
    }
   ],
   "source": [
    "x != 3"
   ]
  },
  {
   "cell_type": "code",
   "execution_count": 95,
   "id": "3f6ac717",
   "metadata": {},
   "outputs": [
    {
     "data": {
      "text/plain": [
       "array([False, False,  True, False, False])"
      ]
     },
     "execution_count": 95,
     "metadata": {},
     "output_type": "execute_result"
    }
   ],
   "source": [
    "x == 3"
   ]
  },
  {
   "cell_type": "code",
   "execution_count": 96,
   "id": "1ca33fca",
   "metadata": {},
   "outputs": [
    {
     "data": {
      "text/plain": [
       "array([False, False, False,  True,  True])"
      ]
     },
     "execution_count": 96,
     "metadata": {},
     "output_type": "execute_result"
    }
   ],
   "source": [
    "x>3"
   ]
  },
  {
   "cell_type": "code",
   "execution_count": 98,
   "id": "d8cd504f",
   "metadata": {},
   "outputs": [
    {
     "data": {
      "text/plain": [
       "5"
      ]
     },
     "execution_count": 98,
     "metadata": {},
     "output_type": "execute_result"
    }
   ],
   "source": [
    "np.count_nonzero(x)"
   ]
  },
  {
   "cell_type": "code",
   "execution_count": 99,
   "id": "4a455355",
   "metadata": {},
   "outputs": [
    {
     "data": {
      "text/plain": [
       "2"
      ]
     },
     "execution_count": 99,
     "metadata": {},
     "output_type": "execute_result"
    }
   ],
   "source": [
    "# ile elementów w tablicy jest mniejszych niż 3?\n",
    "np.count_nonzero(x<3)"
   ]
  },
  {
   "cell_type": "code",
   "execution_count": 102,
   "id": "64f18a17",
   "metadata": {},
   "outputs": [],
   "source": [
    "x = np.random.randint(10, size=(4, 4))"
   ]
  },
  {
   "cell_type": "code",
   "execution_count": 104,
   "id": "5962d5b7",
   "metadata": {},
   "outputs": [
    {
     "data": {
      "text/plain": [
       "array([[8, 1, 5, 3],\n",
       "       [4, 7, 3, 3],\n",
       "       [9, 1, 5, 2],\n",
       "       [4, 6, 3, 7]])"
      ]
     },
     "execution_count": 104,
     "metadata": {},
     "output_type": "execute_result"
    }
   ],
   "source": [
    "x"
   ]
  },
  {
   "cell_type": "code",
   "execution_count": 106,
   "id": "8c792447",
   "metadata": {},
   "outputs": [
    {
     "data": {
      "text/plain": [
       "array([3, 3, 3, 2])"
      ]
     },
     "execution_count": 106,
     "metadata": {},
     "output_type": "execute_result"
    }
   ],
   "source": [
    "# Ile wartości w każdym wierszu jest mniejsze niż 6?\n",
    "np.sum(x<6, axis=1)"
   ]
  },
  {
   "cell_type": "code",
   "execution_count": 107,
   "id": "b22f7a5c",
   "metadata": {},
   "outputs": [
    {
     "data": {
      "text/plain": [
       "False"
      ]
     },
     "execution_count": 107,
     "metadata": {},
     "output_type": "execute_result"
    }
   ],
   "source": [
    "np.any(x<0)"
   ]
  },
  {
   "cell_type": "code",
   "execution_count": 108,
   "id": "900d83cb",
   "metadata": {
    "scrolled": true
   },
   "outputs": [
    {
     "data": {
      "text/plain": [
       "array([[8, 1, 5, 3],\n",
       "       [4, 7, 3, 3],\n",
       "       [9, 1, 5, 2],\n",
       "       [4, 6, 3, 7]])"
      ]
     },
     "execution_count": 108,
     "metadata": {},
     "output_type": "execute_result"
    }
   ],
   "source": [
    "x"
   ]
  },
  {
   "cell_type": "code",
   "execution_count": 110,
   "id": "616e60d4",
   "metadata": {
    "scrolled": true
   },
   "outputs": [
    {
     "data": {
      "text/plain": [
       "array([1, 3, 4, 3, 3, 1, 2, 4, 3])"
      ]
     },
     "execution_count": 110,
     "metadata": {},
     "output_type": "execute_result"
    }
   ],
   "source": [
    "x[x < 5] # Wyjmij te elementy z x, które są mniejsze niż 5"
   ]
  },
  {
   "cell_type": "code",
   "execution_count": 113,
   "id": "45cda44a",
   "metadata": {},
   "outputs": [],
   "source": [
    "x[x < 5] = 0 # wyzeruj elementy, które są mniejsze niż 5"
   ]
  },
  {
   "cell_type": "code",
   "execution_count": 114,
   "id": "f1ae72bc",
   "metadata": {},
   "outputs": [
    {
     "data": {
      "text/plain": [
       "array([[8, 0, 5, 0],\n",
       "       [0, 7, 0, 0],\n",
       "       [9, 0, 5, 0],\n",
       "       [0, 6, 0, 7]])"
      ]
     },
     "execution_count": 114,
     "metadata": {},
     "output_type": "execute_result"
    }
   ],
   "source": [
    "x"
   ]
  },
  {
   "cell_type": "markdown",
   "id": "b9b05a2e",
   "metadata": {},
   "source": [
    "__Fancy indexing__"
   ]
  },
  {
   "cell_type": "code",
   "execution_count": 115,
   "id": "308ade28",
   "metadata": {},
   "outputs": [],
   "source": [
    "x = np.random.randint(100, size=10)"
   ]
  },
  {
   "cell_type": "code",
   "execution_count": 116,
   "id": "c27d2f44",
   "metadata": {},
   "outputs": [
    {
     "data": {
      "text/plain": [
       "array([84, 41, 46, 38, 71, 37, 74, 90, 43, 71])"
      ]
     },
     "execution_count": 116,
     "metadata": {},
     "output_type": "execute_result"
    }
   ],
   "source": [
    "x"
   ]
  },
  {
   "cell_type": "code",
   "execution_count": 119,
   "id": "a400841a",
   "metadata": {},
   "outputs": [
    {
     "data": {
      "text/plain": [
       "array([38, 90, 46])"
      ]
     },
     "execution_count": 119,
     "metadata": {},
     "output_type": "execute_result"
    }
   ],
   "source": [
    "np.array([x[3], x[7], x[2]])"
   ]
  },
  {
   "cell_type": "code",
   "execution_count": 121,
   "id": "524936f6",
   "metadata": {},
   "outputs": [
    {
     "data": {
      "text/plain": [
       "array([38, 90, 46])"
      ]
     },
     "execution_count": 121,
     "metadata": {},
     "output_type": "execute_result"
    }
   ],
   "source": [
    "# Fancy indexing\n",
    "ind = [3, 7 , 2]\n",
    "x[ind]"
   ]
  },
  {
   "cell_type": "code",
   "execution_count": 122,
   "id": "53b12ebf",
   "metadata": {},
   "outputs": [
    {
     "data": {
      "text/plain": [
       "array([38, 90, 46])"
      ]
     },
     "execution_count": 122,
     "metadata": {},
     "output_type": "execute_result"
    }
   ],
   "source": [
    "x[[3, 7, 2]]"
   ]
  },
  {
   "cell_type": "code",
   "execution_count": 124,
   "id": "7038a6d2",
   "metadata": {},
   "outputs": [],
   "source": [
    "ind = np.array([[3, 7],\n",
    "            [4, 5]])"
   ]
  },
  {
   "cell_type": "code",
   "execution_count": 125,
   "id": "44b93120",
   "metadata": {},
   "outputs": [
    {
     "data": {
      "text/plain": [
       "array([[38, 90],\n",
       "       [71, 37]])"
      ]
     },
     "execution_count": 125,
     "metadata": {},
     "output_type": "execute_result"
    }
   ],
   "source": [
    "x[ind]"
   ]
  },
  {
   "cell_type": "code",
   "execution_count": 126,
   "id": "60393457",
   "metadata": {},
   "outputs": [],
   "source": [
    "x = np.random.randint(100, size=(5, 5))"
   ]
  },
  {
   "cell_type": "code",
   "execution_count": 127,
   "id": "170f5603",
   "metadata": {},
   "outputs": [
    {
     "data": {
      "text/plain": [
       "array([[12, 38, 98, 75, 79],\n",
       "       [68, 84, 53, 40, 11],\n",
       "       [44, 32, 27, 28, 47],\n",
       "       [82, 65, 29, 87, 23],\n",
       "       [14, 85, 79, 52, 69]])"
      ]
     },
     "execution_count": 127,
     "metadata": {},
     "output_type": "execute_result"
    }
   ],
   "source": [
    "x"
   ]
  },
  {
   "cell_type": "code",
   "execution_count": 128,
   "id": "5c6b2f21",
   "metadata": {},
   "outputs": [
    {
     "data": {
      "text/plain": [
       "array([44, 32, 27])"
      ]
     },
     "execution_count": 128,
     "metadata": {},
     "output_type": "execute_result"
    }
   ],
   "source": [
    "x[2, [0, 1, 2]]"
   ]
  },
  {
   "cell_type": "code",
   "execution_count": 129,
   "id": "c7a5043c",
   "metadata": {
    "scrolled": true
   },
   "outputs": [
    {
     "data": {
      "text/plain": [
       "array([[53, 68, 84],\n",
       "       [27, 44, 32],\n",
       "       [29, 82, 65],\n",
       "       [79, 14, 85]])"
      ]
     },
     "execution_count": 129,
     "metadata": {},
     "output_type": "execute_result"
    }
   ],
   "source": [
    "x[1:, [2, 0, 1]]"
   ]
  },
  {
   "cell_type": "code",
   "execution_count": 130,
   "id": "5629f370",
   "metadata": {},
   "outputs": [
    {
     "data": {
      "text/plain": [
       "array([84, 28])"
      ]
     },
     "execution_count": 130,
     "metadata": {},
     "output_type": "execute_result"
    }
   ],
   "source": [
    "x[[1, 2], [1, 3]]"
   ]
  },
  {
   "cell_type": "code",
   "execution_count": 131,
   "id": "c3b3cba8",
   "metadata": {},
   "outputs": [
    {
     "data": {
      "text/plain": [
       "array([12, 84, 27, 87, 69])"
      ]
     },
     "execution_count": 131,
     "metadata": {},
     "output_type": "execute_result"
    }
   ],
   "source": [
    "np.diagonal(x)"
   ]
  },
  {
   "cell_type": "markdown",
   "id": "a9421f4e",
   "metadata": {},
   "source": [
    "__Sortowanie__"
   ]
  },
  {
   "cell_type": "code",
   "execution_count": 132,
   "id": "b291cc29",
   "metadata": {},
   "outputs": [],
   "source": [
    "x = np.random.randint(100, size = 5)"
   ]
  },
  {
   "cell_type": "code",
   "execution_count": 133,
   "id": "19b7f202",
   "metadata": {},
   "outputs": [
    {
     "data": {
      "text/plain": [
       "array([19,  0, 19, 98, 40])"
      ]
     },
     "execution_count": 133,
     "metadata": {},
     "output_type": "execute_result"
    }
   ],
   "source": [
    "x"
   ]
  },
  {
   "cell_type": "code",
   "execution_count": 134,
   "id": "f06d1033",
   "metadata": {},
   "outputs": [
    {
     "data": {
      "text/plain": [
       "array([ 0, 19, 19, 40, 98])"
      ]
     },
     "execution_count": 134,
     "metadata": {},
     "output_type": "execute_result"
    }
   ],
   "source": [
    "np.sort(x)"
   ]
  },
  {
   "cell_type": "code",
   "execution_count": 137,
   "id": "ed3b3411",
   "metadata": {},
   "outputs": [],
   "source": [
    "i= np.argsort(x)"
   ]
  },
  {
   "cell_type": "code",
   "execution_count": 138,
   "id": "109f8dd9",
   "metadata": {},
   "outputs": [
    {
     "data": {
      "text/plain": [
       "array([ 0, 19, 19, 40, 98])"
      ]
     },
     "execution_count": 138,
     "metadata": {},
     "output_type": "execute_result"
    }
   ],
   "source": [
    "x[i]"
   ]
  },
  {
   "cell_type": "code",
   "execution_count": 139,
   "id": "69f04cf0",
   "metadata": {},
   "outputs": [],
   "source": [
    "x = np.random.randint(100, size=(5,5))"
   ]
  },
  {
   "cell_type": "code",
   "execution_count": 140,
   "id": "e3560cf3",
   "metadata": {},
   "outputs": [
    {
     "data": {
      "text/plain": [
       "array([[40, 71,  5, 22, 61],\n",
       "       [14, 42, 74, 12, 87],\n",
       "       [80, 19, 80, 83, 52],\n",
       "       [62, 32, 83,  7, 56],\n",
       "       [79, 95,  4, 54, 23]])"
      ]
     },
     "execution_count": 140,
     "metadata": {},
     "output_type": "execute_result"
    }
   ],
   "source": [
    "x"
   ]
  },
  {
   "cell_type": "code",
   "execution_count": 141,
   "id": "e4eebcaa",
   "metadata": {
    "scrolled": true
   },
   "outputs": [
    {
     "data": {
      "text/plain": [
       "array([[ 5, 22, 40, 61, 71],\n",
       "       [12, 14, 42, 74, 87],\n",
       "       [19, 52, 80, 80, 83],\n",
       "       [ 7, 32, 56, 62, 83],\n",
       "       [ 4, 23, 54, 79, 95]])"
      ]
     },
     "execution_count": 141,
     "metadata": {},
     "output_type": "execute_result"
    }
   ],
   "source": [
    "np.sort(x)"
   ]
  },
  {
   "cell_type": "markdown",
   "id": "70e96e7f",
   "metadata": {},
   "source": [
    " 1. Wygeneruj tablicę 100 liczb całkowitych od 0 do 10 i wybierz z niej elementy nieparzyste.\n"
   ]
  },
  {
   "cell_type": "code",
   "execution_count": 144,
   "id": "0ab0b9d0",
   "metadata": {},
   "outputs": [],
   "source": [
    "x= np.random.randint(11, size= 100)"
   ]
  },
  {
   "cell_type": "code",
   "execution_count": 145,
   "id": "e43e690e",
   "metadata": {},
   "outputs": [
    {
     "data": {
      "text/plain": [
       "array([ 2,  3,  4,  2,  8,  1,  6,  8,  9,  2,  8,  4,  1,  5,  6,  2,  2,\n",
       "        2,  4,  2,  4,  3,  7,  7,  5,  8,  9,  1,  5,  7,  1,  8,  8,  5,\n",
       "        0,  1,  2,  9,  5,  2,  9, 10,  2,  4,  3,  4,  2,  4,  1,  3,  3,\n",
       "        1,  9,  6,  5,  4,  8,  3,  4,  2,  0,  7,  9,  5,  5, 10,  5,  6,\n",
       "        4,  9, 10,  8,  6,  0,  0,  7,  8,  5, 10,  7,  1,  4,  7,  5,  7,\n",
       "        7, 10,  6,  1, 10,  0,  5,  3,  0,  2,  3,  3,  9,  3,  6])"
      ]
     },
     "execution_count": 145,
     "metadata": {},
     "output_type": "execute_result"
    }
   ],
   "source": [
    "x"
   ]
  },
  {
   "cell_type": "code",
   "execution_count": 147,
   "id": "e8504bf5",
   "metadata": {},
   "outputs": [
    {
     "data": {
      "text/plain": [
       "array([3, 1, 9, 1, 5, 3, 7, 7, 5, 9, 1, 5, 7, 1, 5, 1, 9, 5, 9, 3, 1, 3,\n",
       "       3, 1, 9, 5, 3, 7, 9, 5, 5, 5, 9, 7, 5, 7, 1, 7, 5, 7, 7, 1, 5, 3,\n",
       "       3, 3, 9, 3])"
      ]
     },
     "execution_count": 147,
     "metadata": {},
     "output_type": "execute_result"
    }
   ],
   "source": [
    "x[x%2 == 1]"
   ]
  },
  {
   "cell_type": "markdown",
   "id": "aaa7dd31",
   "metadata": {},
   "source": [
    "2. Korzystając z tablicy z poprzedniego zadania zastąp elementy nieparzyste zerami."
   ]
  },
  {
   "cell_type": "code",
   "execution_count": 148,
   "id": "4f4d797b",
   "metadata": {},
   "outputs": [],
   "source": [
    "x[x%2 ==1] = 0"
   ]
  },
  {
   "cell_type": "code",
   "execution_count": 149,
   "id": "de5a0bfc",
   "metadata": {},
   "outputs": [
    {
     "data": {
      "text/plain": [
       "array([ 2,  0,  4,  2,  8,  0,  6,  8,  0,  2,  8,  4,  0,  0,  6,  2,  2,\n",
       "        2,  4,  2,  4,  0,  0,  0,  0,  8,  0,  0,  0,  0,  0,  8,  8,  0,\n",
       "        0,  0,  2,  0,  0,  2,  0, 10,  2,  4,  0,  4,  2,  4,  0,  0,  0,\n",
       "        0,  0,  6,  0,  4,  8,  0,  4,  2,  0,  0,  0,  0,  0, 10,  0,  6,\n",
       "        4,  0, 10,  8,  6,  0,  0,  0,  8,  0, 10,  0,  0,  4,  0,  0,  0,\n",
       "        0, 10,  6,  0, 10,  0,  0,  0,  0,  2,  0,  0,  0,  0,  6])"
      ]
     },
     "execution_count": 149,
     "metadata": {},
     "output_type": "execute_result"
    }
   ],
   "source": [
    "x"
   ]
  },
  {
   "cell_type": "markdown",
   "id": "3294923e",
   "metadata": {},
   "source": [
    " 3. W jaki sposób zastąpić elementy nieparzyste zerami, ale bez zmieniania oryginalnej tablicy?"
   ]
  },
  {
   "cell_type": "code",
   "execution_count": 160,
   "id": "7cb46a1f",
   "metadata": {},
   "outputs": [],
   "source": [
    "x= np.random.randint(11, size= 100)"
   ]
  },
  {
   "cell_type": "code",
   "execution_count": 161,
   "id": "995b91c7",
   "metadata": {},
   "outputs": [
    {
     "data": {
      "text/plain": [
       "array([ 7,  1,  7,  2,  0, 10,  4,  5, 10,  8,  6,  7, 10,  7,  1,  0,  3,\n",
       "        1,  3,  1,  3,  2, 10, 10,  7,  2,  1,  9,  4,  0,  1,  3,  3,  0,\n",
       "       10,  7,  4,  4,  6,  5,  7,  3,  8,  9,  4,  3,  0,  7, 10,  9, 10,\n",
       "        1,  6,  0,  1,  5,  8,  0,  4,  0,  8,  4,  3,  0,  5,  9,  4,  3,\n",
       "        5,  2,  5, 10, 10,  2,  8,  3,  7,  7,  1,  2, 10,  6,  0,  8,  1,\n",
       "        0,  7,  8,  5,  4, 10,  8,  3,  0,  6,  0,  9,  3, 10,  1])"
      ]
     },
     "execution_count": 161,
     "metadata": {},
     "output_type": "execute_result"
    }
   ],
   "source": [
    "x"
   ]
  },
  {
   "cell_type": "code",
   "execution_count": 162,
   "id": "35082c84",
   "metadata": {},
   "outputs": [],
   "source": [
    "x_copy = x.copy()"
   ]
  },
  {
   "cell_type": "code",
   "execution_count": 163,
   "id": "3c30dee4",
   "metadata": {},
   "outputs": [],
   "source": [
    "x_copy[x_copy%2 == 1] = 0"
   ]
  },
  {
   "cell_type": "code",
   "execution_count": 164,
   "id": "5624b212",
   "metadata": {},
   "outputs": [
    {
     "data": {
      "text/plain": [
       "array([ 0,  0,  0,  2,  0, 10,  4,  0, 10,  8,  6,  0, 10,  0,  0,  0,  0,\n",
       "        0,  0,  0,  0,  2, 10, 10,  0,  2,  0,  0,  4,  0,  0,  0,  0,  0,\n",
       "       10,  0,  4,  4,  6,  0,  0,  0,  8,  0,  4,  0,  0,  0, 10,  0, 10,\n",
       "        0,  6,  0,  0,  0,  8,  0,  4,  0,  8,  4,  0,  0,  0,  0,  4,  0,\n",
       "        0,  2,  0, 10, 10,  2,  8,  0,  0,  0,  0,  2, 10,  6,  0,  8,  0,\n",
       "        0,  0,  8,  0,  4, 10,  8,  0,  0,  6,  0,  0,  0, 10,  0])"
      ]
     },
     "execution_count": 164,
     "metadata": {},
     "output_type": "execute_result"
    }
   ],
   "source": [
    "x_copy"
   ]
  },
  {
   "cell_type": "markdown",
   "id": "0fb9d0d7",
   "metadata": {},
   "source": [
    " 4. Wygenerować tablicę wypełnioną liczbami losowymi z przedziału 0-100 o wymiarach 3x3 i wybrać elementy większe niż 20 i mniejsze niż 50.\n"
   ]
  },
  {
   "cell_type": "code",
   "execution_count": 170,
   "id": "8056dbf3",
   "metadata": {},
   "outputs": [],
   "source": [
    "x= np.random.randint(101, size=(3, 3))"
   ]
  },
  {
   "cell_type": "code",
   "execution_count": 171,
   "id": "244b6fe7",
   "metadata": {},
   "outputs": [
    {
     "data": {
      "text/plain": [
       "array([[71,  3, 86],\n",
       "       [51, 25, 91],\n",
       "       [ 3, 84, 90]])"
      ]
     },
     "execution_count": 171,
     "metadata": {},
     "output_type": "execute_result"
    }
   ],
   "source": [
    "x"
   ]
  },
  {
   "cell_type": "code",
   "execution_count": 172,
   "id": "12c5e5ae",
   "metadata": {},
   "outputs": [
    {
     "data": {
      "text/plain": [
       "array([25])"
      ]
     },
     "execution_count": 172,
     "metadata": {},
     "output_type": "execute_result"
    }
   ],
   "source": [
    "x[(x>20)&(x<50)]"
   ]
  },
  {
   "cell_type": "markdown",
   "id": "2c9e5686",
   "metadata": {},
   "source": [
    "5. Wygeneruj tablicę o wymiarach 10x10 i stwórz nową tablicę, która ma odwróconą kolejność wierszy."
   ]
  },
  {
   "cell_type": "code",
   "execution_count": 175,
   "id": "f9ccbd3c",
   "metadata": {},
   "outputs": [],
   "source": [
    "x= np.random.randint(50, size=(10,10))"
   ]
  },
  {
   "cell_type": "code",
   "execution_count": 176,
   "id": "adb2196c",
   "metadata": {},
   "outputs": [
    {
     "data": {
      "text/plain": [
       "array([[20, 37,  1, 14, 15, 30, 34, 26, 14,  7],\n",
       "       [34,  8,  2, 18, 48, 34, 46, 40, 41, 33],\n",
       "       [ 1, 13, 13, 11,  9, 41,  9,  6, 17, 24],\n",
       "       [ 7,  7,  8, 33, 40,  5, 20, 22, 14, 17],\n",
       "       [ 4, 15,  4, 22, 28,  9, 33, 49, 33, 37],\n",
       "       [31,  9,  2,  0,  8, 24, 15, 46, 33, 39],\n",
       "       [25, 46, 38, 49, 16, 28, 46, 47, 21,  5],\n",
       "       [14,  6, 41, 47,  4,  0, 35, 22, 11,  1],\n",
       "       [ 2,  8, 18,  9, 26, 23, 31,  5, 48, 38],\n",
       "       [27,  1, 27, 13, 29, 26, 44, 44, 35, 45]])"
      ]
     },
     "execution_count": 176,
     "metadata": {},
     "output_type": "execute_result"
    }
   ],
   "source": [
    "x"
   ]
  },
  {
   "cell_type": "code",
   "execution_count": 178,
   "id": "88abf2ca",
   "metadata": {},
   "outputs": [
    {
     "data": {
      "text/plain": [
       "array([[27,  1, 27, 13, 29, 26, 44, 44, 35, 45],\n",
       "       [ 2,  8, 18,  9, 26, 23, 31,  5, 48, 38],\n",
       "       [14,  6, 41, 47,  4,  0, 35, 22, 11,  1],\n",
       "       [25, 46, 38, 49, 16, 28, 46, 47, 21,  5],\n",
       "       [31,  9,  2,  0,  8, 24, 15, 46, 33, 39],\n",
       "       [ 4, 15,  4, 22, 28,  9, 33, 49, 33, 37],\n",
       "       [ 7,  7,  8, 33, 40,  5, 20, 22, 14, 17],\n",
       "       [ 1, 13, 13, 11,  9, 41,  9,  6, 17, 24],\n",
       "       [34,  8,  2, 18, 48, 34, 46, 40, 41, 33],\n",
       "       [20, 37,  1, 14, 15, 30, 34, 26, 14,  7]])"
      ]
     },
     "execution_count": 178,
     "metadata": {},
     "output_type": "execute_result"
    }
   ],
   "source": [
    "x[::-1,:]"
   ]
  },
  {
   "cell_type": "code",
   "execution_count": 179,
   "id": "9f9b9af8",
   "metadata": {},
   "outputs": [
    {
     "data": {
      "text/plain": [
       "array([[45, 35, 44, 44, 26, 29, 13, 27,  1, 27],\n",
       "       [38, 48,  5, 31, 23, 26,  9, 18,  8,  2],\n",
       "       [ 1, 11, 22, 35,  0,  4, 47, 41,  6, 14],\n",
       "       [ 5, 21, 47, 46, 28, 16, 49, 38, 46, 25],\n",
       "       [39, 33, 46, 15, 24,  8,  0,  2,  9, 31],\n",
       "       [37, 33, 49, 33,  9, 28, 22,  4, 15,  4],\n",
       "       [17, 14, 22, 20,  5, 40, 33,  8,  7,  7],\n",
       "       [24, 17,  6,  9, 41,  9, 11, 13, 13,  1],\n",
       "       [33, 41, 40, 46, 34, 48, 18,  2,  8, 34],\n",
       "       [ 7, 14, 26, 34, 30, 15, 14,  1, 37, 20]])"
      ]
     },
     "execution_count": 179,
     "metadata": {},
     "output_type": "execute_result"
    }
   ],
   "source": [
    "x[::-1,::-1]"
   ]
  },
  {
   "cell_type": "code",
   "execution_count": null,
   "id": "550a663e",
   "metadata": {},
   "outputs": [],
   "source": []
  }
 ],
 "metadata": {
  "kernelspec": {
   "display_name": "Python 3 (ipykernel)",
   "language": "python",
   "name": "python3"
  },
  "language_info": {
   "codemirror_mode": {
    "name": "ipython",
    "version": 3
   },
   "file_extension": ".py",
   "mimetype": "text/x-python",
   "name": "python",
   "nbconvert_exporter": "python",
   "pygments_lexer": "ipython3",
   "version": "3.9.9"
  }
 },
 "nbformat": 4,
 "nbformat_minor": 5
}
