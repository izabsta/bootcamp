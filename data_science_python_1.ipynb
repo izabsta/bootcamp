{
 "cells": [
  {
   "cell_type": "markdown",
   "metadata": {},
   "source": [
    "# Python Introduction"
   ]
  },
  {
   "cell_type": "markdown",
   "metadata": {},
   "source": [
    "1. Załóżmy, że masz 100 zł, które możesz zainwestować z 10% zwrotem każdego roku. Po roku to 100 × 1,1 = 110 złotych, a po dwóch latach to 100 × 1,1 × 1,1 = 121. Dodaj kod, aby obliczyć, ile pieniędzy otrzymasz po 7 latach, i wydrukuj wynik."
   ]
  },
  {
   "cell_type": "code",
   "execution_count": 18,
   "metadata": {},
   "outputs": [
    {
     "data": {
      "text/plain": [
       "194.87171000000012"
      ]
     },
     "execution_count": 18,
     "metadata": {},
     "output_type": "execute_result"
    }
   ],
   "source": [
    "100*1.1**7"
   ]
  },
  {
   "cell_type": "markdown",
   "metadata": {},
   "source": [
    "2. Utwórz kod, który prosi użytkownika o podanie swojego imienia i wieku. Wydrukuj skierowaną do użytkownika wiadomość z informacją o tym, ile ma lat"
   ]
  },
  {
   "cell_type": "code",
   "execution_count": 19,
   "metadata": {},
   "outputs": [
    {
     "name": "stdout",
     "output_type": "stream",
     "text": [
      ", masz  lat.\n"
     ]
    }
   ],
   "source": [
    "name = input('Jak masz na imię?')\n",
    "age = input('Ile masz lat?')\n",
    "print('{}, masz {} lat.'.format(name, age))"
   ]
  },
  {
   "cell_type": "markdown",
   "metadata": {},
   "source": [
    "3. Biorąc pod uwagę ciąg o nieparzystej długości większej niż 7, zwróć łańcuch złożony z trzech środkowych znaków danego ciągu:\n",
    "- Przypadek 1:\\ str1 = \"Datatypes\"\n",
    "Oczekiwany wynik:\\ aty\n",
    "- Przypadek 2:\\ str2 = \"FullStack”\n",
    "Oczekiwany wynik:\\ lSt"
   ]
  },
  {
   "cell_type": "code",
   "execution_count": 20,
   "metadata": {},
   "outputs": [
    {
     "name": "stdout",
     "output_type": "stream",
     "text": [
      "aty\n"
     ]
    }
   ],
   "source": [
    "word='Datatypes'\n",
    "middle_element=int((len(word)/2))\n",
    "print(word[middle_element-1:middle_element+2])"
   ]
  },
  {
   "cell_type": "code",
   "execution_count": 21,
   "metadata": {},
   "outputs": [
    {
     "name": "stdout",
     "output_type": "stream",
     "text": [
      "lSt\n"
     ]
    }
   ],
   "source": [
    "word='FullStack'\n",
    "middle_element=int((len(word)/2))\n",
    "print(word[middle_element-1:middle_element+2])"
   ]
  },
  {
   "cell_type": "markdown",
   "metadata": {},
   "source": [
    "4. Biorąc pod uwagę 2 ciągi, s1 i s2, utwórz nowy ciąg, dodając s2 w środku s1\n",
    "\n",
    "Dane:\n",
    "- s1 = \"FullStack\"\n",
    "- s2 = \"Python”\n",
    "\n",
    "Oczekiwany wynik: FullPythonStack"
   ]
  },
  {
   "cell_type": "code",
   "execution_count": 22,
   "metadata": {},
   "outputs": [
    {
     "name": "stdout",
     "output_type": "stream",
     "text": [
      "FullPythonStack\n"
     ]
    }
   ],
   "source": [
    "s1='FullStack'\n",
    "s2='Python'\n",
    "middle_element=int(len(s1)/2)\n",
    "print(s1[:middle_element] + s2 + s1[middle_element:])"
   ]
  },
  {
   "cell_type": "markdown",
   "metadata": {},
   "source": [
    "5. Biorąc pod uwagę 2 ciągi, s1 i s2 zwróć nowy ciąg złożony z pierwszego, środkowego i ostatniego znaku każdego ciągu wejściowego\n",
    "\n",
    "Dane:\n",
    "- s1 = \"America\"\n",
    "- s2 = \"Japan\"\n",
    "\n",
    "Oczekiwany wynik: AJrpan"
   ]
  },
  {
   "cell_type": "code",
   "execution_count": 23,
   "metadata": {},
   "outputs": [
    {
     "name": "stdout",
     "output_type": "stream",
     "text": [
      "AJrpan\n"
     ]
    }
   ],
   "source": [
    "s1= 'America'\n",
    "s2= 'Japan'\n",
    "first_element = s1[0] + s2[0]\n",
    "middle_element = s1[int(len(s1)/2)] + s2[int(len(s2)/2)]\n",
    "last_element = s1[-1] + s2[-1]\n",
    "print(first_element + middle_element + last_element)"
   ]
  },
  {
   "cell_type": "markdown",
   "metadata": {},
   "source": [
    "6. Odwróć podany ciąg\n",
    "\n",
    "Dane: str1 = \"Python\"\n",
    "\n",
    "Oczekiwany wynik: nohtyP"
   ]
  },
  {
   "cell_type": "code",
   "execution_count": 24,
   "metadata": {},
   "outputs": [
    {
     "name": "stdout",
     "output_type": "stream",
     "text": [
      "nohtyP\n"
     ]
    }
   ],
   "source": [
    "str1='Python'\n",
    "print(str1[::-1])"
   ]
  },
  {
   "cell_type": "markdown",
   "metadata": {},
   "source": [
    "7. Przypisz 8 do zmiennej x i 15 do zmiennej y. Utwórz 2 instrukcje warunkowe:\n",
    "- Niech pierwsza wypisze: „Co najmniej jeden z warunków jest spełniony”, jeśli x jest większe niż 3 lub y jest parzyste\n",
    "- Niech drugi wypisze „Żaden warunek nie jest spełniony”, jeśli x jest mniejsze lub równe 3, a y jest nieparzyste\n",
    "\n",
    "Zmień wartości przypisane do x i y i ponownie uruchom komórkę, aby sprawdzić, czy kod nadal działa"
   ]
  },
  {
   "cell_type": "code",
   "execution_count": 28,
   "metadata": {},
   "outputs": [
    {
     "name": "stdout",
     "output_type": "stream",
     "text": [
      "Co najmniej jeden z warunków jest spełniony.\n"
     ]
    }
   ],
   "source": [
    "x=8\n",
    "y=15\n",
    "\n",
    "if x>3 or y%2==0:\n",
    "    print('Co najmniej jeden z warunków jest spełniony.')\n",
    "\n",
    "if x<=3 and y%2==1:\n",
    "    print('Żaden warunek nie jest spełniony.')"
   ]
  },
  {
   "cell_type": "code",
   "execution_count": 29,
   "metadata": {},
   "outputs": [
    {
     "name": "stdout",
     "output_type": "stream",
     "text": [
      "Co najmniej jeden z warunków jest spełniony.\n"
     ]
    }
   ],
   "source": [
    "x=15\n",
    "y=8\n",
    "\n",
    "if x>3 or y%2==0:\n",
    "    print('Co najmniej jeden z warunków jest spełniony.')\n",
    "\n",
    "if x<=3 and y%2==1:\n",
    "    print('Żaden warunek nie jest spełniony.')"
   ]
  },
  {
   "cell_type": "markdown",
   "metadata": {},
   "source": [
    "8. Po pomyślnym wykonaniu pętli for wyświetl w jednym ciągu instrukcji komunikat „Gotowe!”"
   ]
  },
  {
   "cell_type": "code",
   "execution_count": 32,
   "metadata": {},
   "outputs": [
    {
     "name": "stdout",
     "output_type": "stream",
     "text": [
      "0\n",
      "1\n",
      "2\n",
      "3\n",
      "4\n",
      "5\n",
      "Gotowe!\n"
     ]
    }
   ],
   "source": [
    "for i in range(6):\n",
    "    print(i)\n",
    "else:\n",
    "    print('Gotowe!')"
   ]
  },
  {
   "cell_type": "markdown",
   "metadata": {},
   "source": [
    "9. Umieść instrukcję pass, aby blok if nie zgłaszał błędu:\n"
   ]
  },
  {
   "cell_type": "code",
   "execution_count": null,
   "metadata": {},
   "outputs": [],
   "source": [
    "name = input(\"Proszę wpisać swoje imię.\")\n",
    "Wpisz swoją odpowiedź tutaj.\n",
    "\n",
    "if len(name) > 0:\n",
    "    print(name)\n",
    "else:"
   ]
  },
  {
   "cell_type": "code",
   "execution_count": null,
   "metadata": {},
   "outputs": [],
   "source": [
    "name = input(\"Proszę wpisać swoje imię.\")\n",
    "Wpisz swoją odpowiedź tutaj.\n",
    "\n",
    "if len(name) > 0:\n",
    "    print(name)\n",
    "else:\n",
    "    pass"
   ]
  },
  {
   "cell_type": "markdown",
   "metadata": {},
   "source": [
    "10. Napisz program w Pythonie, aby znaleźć liczby podzielne przez 7 i będące wielokrotnością 5 między 1500 a 2700 (obie uwzględnione)\n"
   ]
  },
  {
   "cell_type": "code",
   "execution_count": 33,
   "metadata": {},
   "outputs": [
    {
     "name": "stdout",
     "output_type": "stream",
     "text": [
      "[1505, 1540, 1575, 1610, 1645, 1680, 1715, 1750, 1785, 1820, 1855, 1890, 1925, 1960, 1995, 2030, 2065, 2100, 2135, 2170, 2205, 2240, 2275, 2310, 2345, 2380, 2415, 2450, 2485, 2520, 2555, 2590, 2625, 2660, 2695]\n"
     ]
    }
   ],
   "source": [
    "numbers=[]\n",
    "for x in range (1500, 2701):\n",
    "    if x%7==0 and x%5==0:\n",
    "        numbers.append(x)\n",
    "print(numbers) "
   ]
  },
  {
   "cell_type": "code",
   "execution_count": 35,
   "metadata": {},
   "outputs": [
    {
     "name": "stdout",
     "output_type": "stream",
     "text": [
      "1505;1540;1575;1610;1645;1680;1715;1750;1785;1820;1855;1890;1925;1960;1995;2030;2065;2100;2135;2170;2205;2240;2275;2310;2345;2380;2415;2450;2485;2520;2555;2590;2625;2660;2695\n"
     ]
    }
   ],
   "source": [
    "numbers=[]\n",
    "for x in range (1500, 2701):\n",
    "    if x%7==0 and x%5==0:\n",
    "        numbers.append(str(x))\n",
    "print(';'.join(numbers)) "
   ]
  }
 ],
 "metadata": {
  "interpreter": {
   "hash": "0562661290de9add446f7b2d8ff6900a42eee8dabdc018667b703d2beded0735"
  },
  "kernelspec": {
   "display_name": "Python 3.8.5 64-bit ('base': conda)",
   "language": "python",
   "name": "python3"
  },
  "language_info": {
   "codemirror_mode": {
    "name": "ipython",
    "version": 3
   },
   "file_extension": ".py",
   "mimetype": "text/x-python",
   "name": "python",
   "nbconvert_exporter": "python",
   "pygments_lexer": "ipython3",
   "version": "3.8.5"
  },
  "orig_nbformat": 4
 },
 "nbformat": 4,
 "nbformat_minor": 2
}
