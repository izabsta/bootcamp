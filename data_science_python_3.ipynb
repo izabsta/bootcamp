{
 "cells": [
  {
   "cell_type": "markdown",
   "metadata": {},
   "source": [
    "Podczas pisania funkcji najlepiej jest przeprowadzić walidację liczb.\n",
    "Jeśli użytkownicy wprowadzą tekst, pojawi się błąd podczas próby konwersji na int.\n",
    "Napisz program, który poprosi użytkownika o podanie dwóch liczb.\n",
    "Dodaj i wydrukuj wynik.\n",
    "Jeśli nie zostanie wprowadzona liczba, zwróć komunikat o błędzie i poproś ponownie."
   ]
  },
  {
   "cell_type": "code",
   "execution_count": 4,
   "metadata": {},
   "outputs": [
    {
     "name": "stdout",
     "output_type": "stream",
     "text": [
      "Podane liczby: 5\n"
     ]
    }
   ],
   "source": [
    "while True:\n",
    "    try:\n",
    "        num1 = int(input(\"Podaj pierwszą liczbę:\"))\n",
    "        num2 = int(input(\"Podaj drugą liczbę: \"))\n",
    "        print(\"Podane liczby: {}\".format(num1 + num2))\n",
    "        break\n",
    "    except ValueError:\n",
    "        print(\"Wprowadź dane liczbowe\")"
   ]
  }
 ],
 "metadata": {
  "interpreter": {
   "hash": "e9fa9bbc554cfd578bec34ae99fd66a014e25708b28196f2a51e4a350c743bac"
  },
  "kernelspec": {
   "display_name": "Python 3.9.9 64-bit (windows store)",
   "language": "python",
   "name": "python3"
  },
  "language_info": {
   "codemirror_mode": {
    "name": "ipython",
    "version": 3
   },
   "file_extension": ".py",
   "mimetype": "text/x-python",
   "name": "python",
   "nbconvert_exporter": "python",
   "pygments_lexer": "ipython3",
   "version": "3.8.5"
  },
  "orig_nbformat": 4
 },
 "nbformat": 4,
 "nbformat_minor": 2
}
