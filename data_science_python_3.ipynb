{
 "cells": [
  {
   "cell_type": "markdown",
   "metadata": {},
   "source": [
    "Podczas pisania funkcji najlepiej jest przeprowadzić walidację liczb.\n",
    "Jeśli użytkownicy wprowadzą tekst, pojawi się błąd podczas próby konwersji na int.\n",
    "Napisz program, który poprosi użytkownika o podanie dwóch liczb.\n",
    "Dodaj i wydrukuj wynik.\n",
    "Jeśli nie zostanie wprowadzona liczba, zwróć komunikat o błędzie i poproś ponownie."
   ]
  },
  {
   "cell_type": "code",
   "execution_count": 4,
   "metadata": {},
   "outputs": [
    {
     "name": "stdout",
     "output_type": "stream",
     "text": [
      "Podane liczby: 5\n"
     ]
    }
   ],
   "source": [
    "while True:\n",
    "    try:\n",
    "        num1 = int(input(\"Podaj pierwszą liczbę:\"))\n",
    "        num2 = int(input(\"Podaj drugą liczbę: \"))\n",
    "        print(\"Podane liczby: {}\".format(num1 + num2))\n",
    "        break\n",
    "    except ValueError:\n",
    "        print(\"Wprowadź dane liczbowe\")"
   ]
  },
  {
   "cell_type": "markdown",
   "metadata": {},
   "source": [
    "Podziel przez siebie dwie liczby\n",
    "\n",
    "Umieść:\n",
    "result = \"Nie możesz podzielić przez 0\"\n",
    "we właściwym miejscu, aby program uniknął ZeroDivisionError\n",
    "\n",
    "Podpowiedź 1: Po prostu umieść przypisanie wartości dla wyniku po linii Except\n",
    "Podpowiedź 2: Zwróć uwagę na wcięcia"
   ]
  },
  {
   "cell_type": "code",
   "execution_count": 7,
   "metadata": {},
   "outputs": [
    {
     "name": "stdout",
     "output_type": "stream",
     "text": [
      "Nie można podzielić przez 0\n"
     ]
    }
   ],
   "source": [
    "def divide_numbers(x,y):\n",
    "    try:\n",
    "        result=x/y\n",
    "    except ZeroDivisionError:\n",
    "        print('Nie można podzielić przez 0')\n",
    "    else:\n",
    "        return result      \n",
    "\n",
    "divide_numbers(6,0)\n"
   ]
  },
  {
   "cell_type": "markdown",
   "metadata": {},
   "source": [
    "Napisz dowolny kod.\n",
    "\n",
    "Wychwyć w nim wyjątek, ale nic nie rób."
   ]
  },
  {
   "cell_type": "code",
   "execution_count": 8,
   "metadata": {},
   "outputs": [],
   "source": [
    "try:\n",
    "    'a' + 1\n",
    "except:\n",
    "    pass"
   ]
  },
  {
   "cell_type": "markdown",
   "metadata": {},
   "source": [
    "Spróbuj dodać int do ciągu.\n",
    "\n",
    "Umieść:\n",
    "\n",
    "msg = \"Nie możesz dodać int do string\"\n",
    "aby program uniknął błędu BaseException.\n",
    "\n",
    "Możesz użyć wyjątku Exception, chociaż zwykle powinno się ostrożnie używać tak potężnych instrukcji wyjątków."
   ]
  },
  {
   "cell_type": "code",
   "execution_count": 13,
   "metadata": {},
   "outputs": [
    {
     "name": "stdout",
     "output_type": "stream",
     "text": [
      "Nie możesz dodać int string\n"
     ]
    }
   ],
   "source": [
    "try:\n",
    "    result= 3 + 'Python'\n",
    "except Exception:\n",
    "    print('Nie możesz dodać int string')\n",
    "else:\n",
    "    print(result)"
   ]
  },
  {
   "cell_type": "markdown",
   "metadata": {},
   "source": [
    "Stwórz trójelementową listę.\n",
    "\n",
    "Spróbuj wydrukować piąty element.\n",
    "\n",
    "Umieść:\n",
    "\n",
    "msg = \"Jesteś poza zakresem listy\"\n",
    "aby uniknąć wyjątku IndexError."
   ]
  },
  {
   "cell_type": "code",
   "execution_count": 16,
   "metadata": {},
   "outputs": [
    {
     "name": "stdout",
     "output_type": "stream",
     "text": [
      "Jesteś poza zakresem listy (list index out of range)\n"
     ]
    }
   ],
   "source": [
    "my_list=[1,2,3]\n",
    "\n",
    "try:\n",
    "    print(my_list[5])\n",
    "except IndexError as error:\n",
    "    print(\"Jesteś poza zakresem listy (\" + str(error) + \")\")"
   ]
  },
  {
   "cell_type": "markdown",
   "metadata": {},
   "source": [
    "Spróbuj otworzyć do czytania plik (podpowiedź: f = open(arg, \"r\")).\n",
    "\n",
    "W razie braku możliwości otwarcia pliku, obsłuż wyjątek.\n",
    "\n",
    "W przeciwnym przypadku wypisz:\n",
    "\n",
    "Nazwę pliku;\n",
    "Liczbę wierszy (podpowiedź: len(f.readlines()).\n",
    "Na koniec zamknij ten plik (podpowiedź: f.close())."
   ]
  },
  {
   "cell_type": "code",
   "execution_count": 18,
   "metadata": {},
   "outputs": [
    {
     "name": "stdout",
     "output_type": "stream",
     "text": [
      "Nie można otworzyć pliku: 'nazwa_pliku'\n"
     ]
    }
   ],
   "source": [
    "arg='nazwa_pliku'\n",
    "try:\n",
    "    f=open(arg,\"r\")\n",
    "except IOError:\n",
    "    print(\"Nie można otworzyć pliku: '{}'\".format(arg))\n",
    "else:\n",
    "    print(\"Plik: '{}' ma {} wierszy\".format(arg, len(f.readlines())))\n",
    "    f.close()  "
   ]
  },
  {
   "cell_type": "markdown",
   "metadata": {},
   "source": [
    "Użyj finally do zamykania obiektów i czyszczenia zasobów.\n",
    "\n",
    "Spróbuj otworzyć i zapisać (podpowiedź: write) w pliku, którego nie można zapisać.\n",
    "\n",
    "Zapewnij, aby program mógł kontynuować bez pozostawiania otwartego obiektu pliku."
   ]
  },
  {
   "cell_type": "code",
   "execution_count": 27,
   "metadata": {},
   "outputs": [
    {
     "name": "stdout",
     "output_type": "stream",
     "text": [
      "Nie można zapisać w pliku\n"
     ]
    },
    {
     "ename": "NameError",
     "evalue": "name 'f' is not defined",
     "output_type": "error",
     "traceback": [
      "\u001b[1;31m---------------------------------------------------------------------------\u001b[0m",
      "\u001b[1;31mNameError\u001b[0m                                 Traceback (most recent call last)",
      "\u001b[1;32m<ipython-input-27-9d6d7b859d0e>\u001b[0m in \u001b[0;36m<module>\u001b[1;34m\u001b[0m\n\u001b[0;32m      6\u001b[0m     \u001b[0mprint\u001b[0m\u001b[1;33m(\u001b[0m\u001b[1;34m\"Nie można zapisać w pliku\"\u001b[0m\u001b[1;33m)\u001b[0m\u001b[1;33m\u001b[0m\u001b[1;33m\u001b[0m\u001b[0m\n\u001b[0;32m      7\u001b[0m \u001b[1;32mfinally\u001b[0m\u001b[1;33m:\u001b[0m\u001b[1;33m\u001b[0m\u001b[1;33m\u001b[0m\u001b[0m\n\u001b[1;32m----> 8\u001b[1;33m     \u001b[0mf\u001b[0m\u001b[1;33m.\u001b[0m\u001b[0mclose\u001b[0m\u001b[1;33m(\u001b[0m\u001b[1;33m)\u001b[0m\u001b[1;33m\u001b[0m\u001b[1;33m\u001b[0m\u001b[0m\n\u001b[0m",
      "\u001b[1;31mNameError\u001b[0m: name 'f' is not defined"
     ]
    }
   ],
   "source": [
    "arg='nazwa_pliku'\n",
    "try:\n",
    "    f=open(arg,\"r\")\n",
    "    f.write('Piszę')\n",
    "except IOError:\n",
    "    print(\"Nie można zapisać w pliku\")\n",
    "finally:\n",
    "    f.close()"
   ]
  },
  {
   "cell_type": "markdown",
   "metadata": {},
   "source": [
    "Użyj wszystkie 4 elementy struktury obsługi wyjątków przy otwieraniu plików.\n",
    "\n",
    "Spróbuj otworzyć do czytania plik.\n",
    "\n",
    "W razie braku możliwości otwarcia pliku, obsłuż wyjątek.\n",
    "\n",
    "W przeciwnym przypadku wypisz:\n",
    "\n",
    "Nazwę pliku;\n",
    "Liczbę wierszy.\n",
    "Na koniec zamknij ten plik.\n",
    "\n",
    "Jeżeli dany plik nie jest zamknięty (podpowiedź: f.closed), to go zamknij."
   ]
  },
  {
   "cell_type": "code",
   "execution_count": 29,
   "metadata": {},
   "outputs": [
    {
     "name": "stdout",
     "output_type": "stream",
     "text": [
      "Nie można otworzyć pliku\n"
     ]
    },
    {
     "ename": "NameError",
     "evalue": "name 'f' is not defined",
     "output_type": "error",
     "traceback": [
      "\u001b[1;31m---------------------------------------------------------------------------\u001b[0m",
      "\u001b[1;31mNameError\u001b[0m                                 Traceback (most recent call last)",
      "\u001b[1;32m<ipython-input-29-9c314e374d88>\u001b[0m in \u001b[0;36m<module>\u001b[1;34m\u001b[0m\n\u001b[0;32m      8\u001b[0m     \u001b[0mf\u001b[0m\u001b[1;33m.\u001b[0m\u001b[0mclose\u001b[0m\u001b[1;33m(\u001b[0m\u001b[1;33m)\u001b[0m\u001b[1;33m\u001b[0m\u001b[1;33m\u001b[0m\u001b[0m\n\u001b[0;32m      9\u001b[0m \u001b[1;32mfinally\u001b[0m\u001b[1;33m:\u001b[0m\u001b[1;33m\u001b[0m\u001b[1;33m\u001b[0m\u001b[0m\n\u001b[1;32m---> 10\u001b[1;33m     \u001b[1;32mif\u001b[0m \u001b[1;32mnot\u001b[0m \u001b[0mf\u001b[0m\u001b[1;33m.\u001b[0m\u001b[0mclosed\u001b[0m\u001b[1;33m:\u001b[0m\u001b[1;33m\u001b[0m\u001b[1;33m\u001b[0m\u001b[0m\n\u001b[0m\u001b[0;32m     11\u001b[0m         \u001b[0mf\u001b[0m\u001b[1;33m.\u001b[0m\u001b[0mclose\u001b[0m\u001b[1;33m(\u001b[0m\u001b[1;33m)\u001b[0m\u001b[1;33m\u001b[0m\u001b[1;33m\u001b[0m\u001b[0m\n",
      "\u001b[1;31mNameError\u001b[0m: name 'f' is not defined"
     ]
    }
   ],
   "source": [
    "arg='nazwa_pliku'\n",
    "try:\n",
    "    f=open(arg,\"r\")\n",
    "except IOError:\n",
    "    print(\"Nie można otworzyć pliku\")\n",
    "else:\n",
    "    print(\"Plik: '{}' ma {} wierszy\".format(arg, len(f.readlines())))\n",
    "    f.close()\n",
    "finally:\n",
    "    if not f.closed:\n",
    "        f.close()    "
   ]
  }
 ],
 "metadata": {
  "interpreter": {
   "hash": "e9fa9bbc554cfd578bec34ae99fd66a014e25708b28196f2a51e4a350c743bac"
  },
  "kernelspec": {
   "display_name": "Python 3.9.9 64-bit (windows store)",
   "language": "python",
   "name": "python3"
  },
  "language_info": {
   "codemirror_mode": {
    "name": "ipython",
    "version": 3
   },
   "file_extension": ".py",
   "mimetype": "text/x-python",
   "name": "python",
   "nbconvert_exporter": "python",
   "pygments_lexer": "ipython3",
   "version": "3.8.5"
  },
  "orig_nbformat": 4
 },
 "nbformat": 4,
 "nbformat_minor": 2
}
